{
 "cells": [
  {
   "cell_type": "code",
   "execution_count": 43,
   "metadata": {},
   "outputs": [],
   "source": [
    "import numpy as np\n",
    "import random\n",
    "\n",
    "class neru_bp():\n",
    "    def __init__(self, learning_rate = .2,mini_batch_size=1,archtecture=[1,2,1], n_iterations = 3000):\n",
    "        self.learning_rate = learning_rate\n",
    "        self.n_iterations = n_iterations\n",
    "        self.bp_gredient=[]\n",
    "        self.train_weights=[];     #  训练权重\n",
    "        self.train_weights_grad=[];#  权重梯度\n",
    "        self.train_bias=[];        #  训练偏置\n",
    "        self.train_bias_grad=[];   #  偏置梯度\n",
    "        self.feedforward_a=[];     #  前向传播得到的激活值的中间输出\n",
    "        self.error_term=[];        #  残差\n",
    "        self.w_gredient=[];\n",
    "        self.predict_a=[];         #  预测中间值, 用于单个样本的预测输出\n",
    "        self.train_labels=[]#1Xmini_batch_size\n",
    "        #self.learning_rate;                           #  反向传播学习率\n",
    "        self.lambda1=0.0  \n",
    "        self.losses = []#  过拟合参数\n",
    "        self.mini_batch_size=mini_batch_size;                            #  批量梯度下降的一个批次数量\n",
    "        self.iteration_size=n_iterations;                             #  迭代次数\n",
    "        self.architecture=archtecture;                  # 神经网络的结构（4， 4, 1） 表示有一个input layer(4个神经元, 和输入数据的维度一致), \n",
    "    def init_value(self):\n",
    "        for i in range(len(self.architecture)):\n",
    "            if i>=1:\n",
    "                w=np.random.rand(self.architecture[i],self.architecture[i-1])*0.01\n",
    "                self.train_weights.append(w)\n",
    "                wg=np.zeros([self.architecture[i],self.architecture[i-1]])\n",
    "                self.train_weights_grad.append(wg)\n",
    "                b=np.random.rand(self.architecture[i],1)\n",
    "                self.train_bias.append(b)\n",
    "                bg=np.zeros([self.architecture[i],1])\n",
    "                self.train_bias_grad.append(bg)\n",
    "                a=np.zeros([self.architecture[i],self.mini_batch_size])\n",
    "                self.feedforward_a.append(a)#这个和bais,bais_gredient以及下面的变量都是从第二层才开始有的！！！！！\n",
    "                e=np.zeros([self.architecture[i],self.mini_batch_size])\n",
    "                self.error_term.append(e)\n",
    "                self.bp_gredient.append(e)\n",
    "                pa=np.zeros([self.architecture[i],1])\n",
    "                self.predict_a.append(pa)\n",
    "    def get_batch_bias(self,bias):\n",
    "        n=bias.shape[0]\n",
    "        res_bias=np.zeros([n,self.mini_batch_size])\n",
    "        for i in range(self.mini_batch_size):\n",
    "            res_bias[:,i]=bias.reshape(n,)\n",
    "        return res_bias\n",
    "    \n",
    "    def tanh(self,x):\n",
    "        return (np.exp(x)-np.exp(-x))/(np.exp(x)+np.exp(-x))\n",
    "    \n",
    "    def sigmoid(self,z):\n",
    "        return 1/(1+np.exp(-z))\n",
    "    def feedforward(self,X):#不包括输入层的x\n",
    "        for i in range(len(self.feedforward_a)):\n",
    "            \n",
    "            #print(i)\n",
    "            if i==0:\n",
    "                \n",
    "                z=np.dot(self.train_weights[i],X)+self.get_batch_bias(self.train_bias[i])\n",
    "                z=z.reshape(z.shape[0],self.mini_batch_size)\n",
    "                \n",
    "                self.feedforward_a[i]=self.tanh(z)\n",
    "            \n",
    "            elif i< len(self.feedforward_a)-1 and i >0:\n",
    "                self.feedforward_a[i]=self.tanh(np.dot(self.train_weights[i],self.feedforward_a[i-1])+self.get_batch_bias(self.train_bias[i]))\n",
    "       \n",
    "               \n",
    "            else:\n",
    "                self.feedforward_a[i]=self.sigmoid(np.dot(self.train_weights[i],self.feedforward_a[i-1])+self.get_batch_bias(self.train_bias[i]))\n",
    "       \n",
    "        return self.feedforward_a\n",
    "    \n",
    "    def sig_bg(self,z):\n",
    "        return self.sigmoid(z)*(1-self.sigmoid(z))\n",
    "    \n",
    "    def tan_bg(self,x):\n",
    "        return 1- self.tanh(x)*self.tanh(x)\n",
    "    \n",
    "    def back_forward(self,X,train_labels):\n",
    "        train_labels=train_labels.reshape(train_labels.shape[0],self.mini_batch_size)\n",
    "        X=X.reshape(X.shape[0],self.mini_batch_size)\n",
    "        \n",
    "        bp_gredient=[]\n",
    "        bk_len=list(range(len(self.architecture)))\n",
    "        bk_len.reverse()\n",
    "        bk_len.pop()#第一层是x，不是z，\n",
    "        self.feedforward(X)\n",
    "        for i in bk_len:\n",
    "            \n",
    "            if i==len(self.architecture)-1:\n",
    "                \n",
    "                #er1=-(self.feedforward_a[i-1]-train_labels)*self.sig_bg(np.dot(self.train_weights[i-1],self.feedforward_a[i-2]))\n",
    "                er1=-(-self.feedforward_a[i-1]+train_labels)*self.sig_bg(self.feedforward_a[i-1])\n",
    "               \n",
    "                #self.bp_gredient.append(er1)\n",
    "                self.bp_gredient[i-1]=er1\n",
    "                #bp_mean=np.mean(self.bp_gredient[i-1],axis=1)\n",
    "                w_g=np.dot(self.bp_gredient[i-1],self.feedforward_a[i-2].T)/self.mini_batch_size\n",
    "                b_g=np.mean(self.bp_gredient[i-1],axis=1)\n",
    "#                 self.train_weights_grad.append(w_g)\n",
    "#                 self.train_bias_grad.append(b_g)\n",
    "                b_g=np.reshape(b_g,newshape=self.train_bias_grad[i-1].shape)#!!!!!!!!\n",
    "                self.train_weights_grad[i-1]=w_g\n",
    "                self.train_bias_grad[i-1]=b_g\n",
    "            elif i==1:\n",
    "                \n",
    "                #print(self.bp_gredient[i-1].T)\n",
    "                #er1=(np.dot(self.bp_gredient[i].T,self.train_weights[i])).T*self.sig_bg(np.dot(self.train_weights[i-1],X))\n",
    "                er1=(np.dot(self.bp_gredient[i].T,self.train_weights[i])).T*self.tan_bg(self.feedforward_a[i-1])\n",
    "                self.bp_gredient[i-1]=er1\n",
    "                bp_mean=np.mean(self.bp_gredient[i-1],axis=1)\n",
    "                w_g=np.dot(self.bp_gredient[i-1],X.T)/self.mini_batch_size\n",
    "                b_g=np.mean(self.bp_gredient[i-1],axis=1)\n",
    "#                 self.train_weights_grad.append(w_g)\n",
    "#                 self.train_bias_grad.append(b_g)\n",
    "                self.train_weights_grad[i-1]=w_g\n",
    "                b_g=np.reshape(b_g,newshape=self.train_bias_grad[i-1].shape)#!!!!!!!!\n",
    "                self.train_bias_grad[i-1]=b_g\n",
    "            else:\n",
    "                #er1=(np.dot(self.bp_gredient[i].T,self.train_weights[i])).T*self.sig_bg(np.dot(self.train_weights[i-1],self.feedforward_a[i-2]))\n",
    "                er1=(np.dot(self.bp_gredient[i].T,self.train_weights[i])).T*self.tan_bg(self.feedforward_a[i-1])\n",
    "                self.bp_gredient[i-1]=er1\n",
    "                w_g=np.dot(self.bp_gredient[i-1],self.feedforward_a[i-2].T)/self.mini_batch_size\n",
    "#                 self.train_weights_grad.append(w_g)\n",
    "#                 self.train_bias_grad.append(b_g)\n",
    "                b_g=np.mean(self.bp_gredient[i-1],axis=1)\n",
    "                b_g=np.reshape(b_g,newshape=self.train_bias_grad[i-1].shape)\n",
    "                self.train_weights_grad[i-1]=w_g\n",
    "                self.train_bias_grad[i-1]=b_g\n",
    "            \n",
    "        #self.bp_gredient.clear()\n",
    "    def get_minibatch(self,X,y):\n",
    "        m=X.shape[1]\n",
    "        list1=list(range(m))\n",
    "        sample_num=random.sample(list1,self.mini_batch_size)\n",
    "        #sample_num=np.random.randint(m)\n",
    "        #print(\"sample is:\",sample_num)\n",
    "        return X[:,sample_num],y[:,sample_num]\n",
    "    def predict(self,X):#对单个样本预测\n",
    "#         print(X.shape)\n",
    "        n,m=X.shape[0],X.shape[1]\n",
    "        X=X.reshape([n,m])\n",
    "        for i in range(len(self.predict_a)):\n",
    "            if i==0:\n",
    "                #print(np.dot(self.train_weights[i],X))\n",
    "                z=np.dot(self.train_weights[i],X)+self.train_bias[i]\n",
    "                #print(self.train_bias[i])\n",
    "                self.predict_a[i]=self.tanh(z)\n",
    "            elif i< len(self.predict_a)-1:\n",
    "                self.predict_a[i]=self.tanh(np.dot(self.train_weights[i],self.predict_a[i-1])+self.train_bias[i])\n",
    "            else:\n",
    "                self.predict_a[i]=self.sigmoid(np.dot(self.train_weights[i],self.predict_a[i-1])+self.train_bias[i])\n",
    "        return self.predict_a[len(self.predict_a)-1]\n",
    "        \n",
    "    def loss(self,X,y,pred_y):\n",
    "        m=y.shape[1]\n",
    "        loss_squre=0\n",
    "        loss_regular=0\n",
    "        for i in range(m):\n",
    "            loss_squre+=np.dot((y[:,i]-pred_y[:,i]).T,(y[:,i]-pred_y[:,i]))\n",
    "#         loss_squre = np.sum()\n",
    "        loss_squre=loss_squre/m\n",
    "#         print(loss_squre.shape)\n",
    "        \n",
    "        for j in range(len(self.train_weights)):\n",
    "            temp_w=self.train_weights[j]\n",
    "            loss_regular+=np.sum(temp_w*temp_w)\n",
    "        loss_regular*=self.lambda1/2\n",
    "        return loss_squre+loss_regular\n",
    "    def evaluate(self,test_X,test_y,onehot):\n",
    "#         print(test_X.shape)\n",
    "        cnt=0\n",
    "        for i in range(test_X.shape[1]):\n",
    "            pred_y=self.predict(test_X[:,i].reshape([test_X[:,i].shape[0],1]))\n",
    "#             print(pred_y)\n",
    "#             print(test_y)\n",
    "            #print(\"pred_y\",pred_y)\n",
    "            #print(\"真实结果与预测结果\",np.argmax(test_y[:,i],axis=0),np.argmax(pred_y,axis=0)[0])\n",
    "            if(onehot):\n",
    "                if np.argmax(test_y[:,i],axis=0)==np.argmax(pred_y,axis=0)[0]:\n",
    "                    #print('argmax:',np.argmax(test_y[:,i],axis=0))\n",
    "                    #print(\"真实结果与预测结果\",np.argmax(test_y[:,i],axis=0),np.argmax(pred_y,axis=0)[0])\n",
    "                    cnt+=1\n",
    "            else:\n",
    "                if(pred_y[0,0]==test_y[0,i]):\n",
    "                    cnt+=1\n",
    "        print(\"预测准确率为：%f\"%(cnt/test_y.shape[1]*100),\"%\")\n",
    "        return cnt/test_y.shape[1]\n",
    "                      \n",
    "    def train(self,X,y):\n",
    "        for i in range(self.iteration_size):\n",
    "            X_batch,y_batch=self.get_minibatch(X,y)\n",
    "            pred_y=self.predict(X_batch)\n",
    "            loss = self.loss(X_batch,y_batch,pred_y)\n",
    "            self.losses.append(loss)\n",
    "            self.back_forward(X_batch,y_batch)\n",
    "            for j in range(len(self.train_weights)):\n",
    "                self.train_weights[j]=self.train_weights[j]-self.learning_rate*(self.train_weights_grad[j]+self.lambda1*self.train_weights[j])\n",
    "                self.train_bias[j]-=self.learning_rate*self.train_bias_grad[j]\n",
    "        #for i in range(len(self.train_weights)):\n",
    "            #print(\"train_weights %d\"%i)\n",
    "            #print(self.train_weights[i])\n",
    "            #print(\"train_bias %d\"%i)\n",
    "            #print(self.train_bias[i])"
   ]
  },
  {
   "cell_type": "code",
   "execution_count": 18,
   "metadata": {},
   "outputs": [],
   "source": [
    "import pandas as pd\n",
    "data = pd.read_csv('1_data.txt',sep=' ',header=None)"
   ]
  },
  {
   "cell_type": "code",
   "execution_count": 19,
   "metadata": {
    "scrolled": true
   },
   "outputs": [],
   "source": [
    "data_np = np.array(data)\n",
    "x = data_np[:,0:3]\n",
    "y = data_np[:,3]\n",
    "y = y.reshape((30,1))\n",
    "from sklearn.preprocessing import LabelBinarizer\n",
    "y2=LabelBinarizer().fit_transform(y)\n",
    "from sklearn.cross_validation import train_test_split\n",
    "X_train, X_test, y_train, y_test = train_test_split(x, y2)"
   ]
  },
  {
   "cell_type": "code",
   "execution_count": 148,
   "metadata": {},
   "outputs": [
    {
     "name": "stdout",
     "output_type": "stream",
     "text": [
      "(3, 8)\n",
      "预测准确率为：62.500000 %\n"
     ]
    },
    {
     "data": {
      "text/plain": [
       "0.625"
      ]
     },
     "execution_count": 148,
     "metadata": {},
     "output_type": "execute_result"
    }
   ],
   "source": [
    "bp_neru=neru_bp(learning_rate=0.2,mini_batch_size=1,n_iterations=3000,archtecture=[3,3,3])\n",
    "bp_neru.init_value()\n",
    "bp_neru.train(X_train.T,y_train.T)\n",
    "bp_neru.evaluate(X_test.T,y_test.T,True)"
   ]
  },
  {
   "cell_type": "code",
   "execution_count": 153,
   "metadata": {},
   "outputs": [
    {
     "name": "stdout",
     "output_type": "stream",
     "text": [
      "(3, 8)\n",
      "预测准确率为：75.000000 %\n"
     ]
    },
    {
     "data": {
      "text/plain": [
       "0.75"
      ]
     },
     "execution_count": 153,
     "metadata": {},
     "output_type": "execute_result"
    }
   ],
   "source": [
    "bp_neru=neru_bp(learning_rate=0.2,mini_batch_size=1,n_iterations=3000,archtecture=[3,4,3])\n",
    "bp_neru.init_value()\n",
    "bp_neru.train(X_train.T,y_train.T)\n",
    "bp_neru.evaluate(X_test.T,y_test.T,True)"
   ]
  },
  {
   "cell_type": "code",
   "execution_count": 150,
   "metadata": {},
   "outputs": [
    {
     "name": "stdout",
     "output_type": "stream",
     "text": [
      "(3, 8)\n",
      "预测准确率为：75.000000 %\n"
     ]
    },
    {
     "data": {
      "text/plain": [
       "0.75"
      ]
     },
     "execution_count": 150,
     "metadata": {},
     "output_type": "execute_result"
    }
   ],
   "source": [
    "bp_neru=neru_bp(learning_rate=0.2,mini_batch_size=1,n_iterations=3000,archtecture=[3,10,3])\n",
    "bp_neru.init_value()\n",
    "bp_neru.train(X_train.T,y_train.T)\n",
    "bp_neru.evaluate(X_test.T,y_test.T,True)"
   ]
  },
  {
   "cell_type": "code",
   "execution_count": 151,
   "metadata": {},
   "outputs": [
    {
     "name": "stdout",
     "output_type": "stream",
     "text": [
      "(3, 8)\n",
      "预测准确率为：62.500000 %\n"
     ]
    },
    {
     "data": {
      "text/plain": [
       "0.625"
      ]
     },
     "execution_count": 151,
     "metadata": {},
     "output_type": "execute_result"
    }
   ],
   "source": [
    "bp_neru=neru_bp(learning_rate=0.2,mini_batch_size=1,n_iterations=3000,archtecture=[3,20,3])\n",
    "bp_neru.init_value()\n",
    "bp_neru.train(X_train.T,y_train.T)\n",
    "bp_neru.evaluate(X_test.T,y_test.T,True)"
   ]
  },
  {
   "cell_type": "code",
   "execution_count": 154,
   "metadata": {},
   "outputs": [
    {
     "name": "stdout",
     "output_type": "stream",
     "text": [
      "(3, 8)\n",
      "预测准确率为：50.000000 %\n"
     ]
    },
    {
     "data": {
      "text/plain": [
       "0.5"
      ]
     },
     "execution_count": 154,
     "metadata": {},
     "output_type": "execute_result"
    }
   ],
   "source": [
    "bp_neru=neru_bp(learning_rate=0.01,mini_batch_size=1,n_iterations=3000,archtecture=[3,10,3])\n",
    "bp_neru.init_value()\n",
    "bp_neru.train(X_train.T,y_train.T)\n",
    "bp_neru.evaluate(X_test.T,y_test.T,True)"
   ]
  },
  {
   "cell_type": "code",
   "execution_count": 155,
   "metadata": {},
   "outputs": [
    {
     "name": "stdout",
     "output_type": "stream",
     "text": [
      "(3, 8)\n",
      "预测准确率为：50.000000 %\n"
     ]
    },
    {
     "data": {
      "text/plain": [
       "0.5"
      ]
     },
     "execution_count": 155,
     "metadata": {},
     "output_type": "execute_result"
    }
   ],
   "source": [
    "bp_neru=neru_bp(learning_rate=0.1,mini_batch_size=1,n_iterations=3000,archtecture=[3,10,3])\n",
    "bp_neru.init_value()\n",
    "bp_neru.train(X_train.T,y_train.T)\n",
    "bp_neru.evaluate(X_test.T,y_test.T,True)"
   ]
  },
  {
   "cell_type": "code",
   "execution_count": 162,
   "metadata": {},
   "outputs": [
    {
     "name": "stdout",
     "output_type": "stream",
     "text": [
      "(3, 8)\n",
      "预测准确率为：87.500000 %\n"
     ]
    },
    {
     "data": {
      "text/plain": [
       "0.875"
      ]
     },
     "execution_count": 162,
     "metadata": {},
     "output_type": "execute_result"
    }
   ],
   "source": [
    "bp_neru=neru_bp(learning_rate=0.2,mini_batch_size=1,n_iterations=3000,archtecture=[3,10,3])\n",
    "bp_neru.init_value()\n",
    "bp_neru.train(X_train.T,y_train.T)\n",
    "bp_neru.evaluate(X_test.T,y_test.T,True)"
   ]
  },
  {
   "cell_type": "code",
   "execution_count": 20,
   "metadata": {},
   "outputs": [
    {
     "name": "stdout",
     "output_type": "stream",
     "text": [
      "(3, 8)\n",
      "预测准确率为：75.000000 %\n"
     ]
    },
    {
     "data": {
      "text/plain": [
       "0.75"
      ]
     },
     "execution_count": 20,
     "metadata": {},
     "output_type": "execute_result"
    }
   ],
   "source": [
    "bp_neru=neru_bp(learning_rate=0.2,mini_batch_size=1,n_iterations=100000,archtecture=[3,10,3])\n",
    "bp_neru.init_value()\n",
    "bp_neru.train(X_train.T,y_train.T)\n",
    "bp_neru.evaluate(X_test.T,y_test.T,True)"
   ]
  },
  {
   "cell_type": "code",
   "execution_count": 22,
   "metadata": {},
   "outputs": [
    {
     "data": {
      "image/png": "[encoded data removed]",
      "text/plain": [
       "<Figure size 432x288 with 1 Axes>"
      ]
     },
     "metadata": {},
     "output_type": "display_data"
    }
   ],
   "source": [
    "losses = np.array(bp_neru.losses)\n",
    "losses = losses.reshape((100000,1))\n",
    "import matplotlib.pyplot as plt\n",
    "plt.plot(np.arange(len(losses)),losses)\n",
    "plt.xlabel('epoches')\n",
    "plt.ylabel('loss')\n",
    "plt.show()"
   ]
  },
  {
   "cell_type": "code",
   "execution_count": 45,
   "metadata": {},
   "outputs": [
    {
     "name": "stdout",
     "output_type": "stream",
     "text": [
      "预测准确率为：75.000000 %\n"
     ]
    },
    {
     "data": {
      "text/plain": [
       "0.75"
      ]
     },
     "execution_count": 45,
     "metadata": {},
     "output_type": "execute_result"
    }
   ],
   "source": [
    "bp_neru=neru_bp(learning_rate=0.2,mini_batch_size=4,n_iterations=3000,archtecture=[3,10,3])\n",
    "bp_neru.init_value()\n",
    "bp_neru.train(X_train.T,y_train.T)\n",
    "bp_neru.evaluate(X_test.T,y_test.T,True)"
   ]
  },
  {
   "cell_type": "code",
   "execution_count": 46,
   "metadata": {},
   "outputs": [
    {
     "data": {
      "image/png": "[encoded data removed]",
      "text/plain": [
       "<Figure size 432x288 with 1 Axes>"
      ]
     },
     "metadata": {},
     "output_type": "display_data"
    }
   ],
   "source": [
    "losses = np.array(bp_neru.losses)\n",
    "losses = losses.reshape((3000,1))\n",
    "import matplotlib.pyplot as plt\n",
    "plt.plot(np.arange(len(losses)),losses)\n",
    "plt.xlabel('epoches')\n",
    "plt.ylabel('loss')\n",
    "plt.show()"
   ]
  },
  {
   "cell_type": "code",
   "execution_count": 163,
   "metadata": {},
   "outputs": [
    {
     "data": {
      "image/png": "[encoded data removed]",
      "text/plain": [
       "<Figure size 432x288 with 1 Axes>"
      ]
     },
     "metadata": {},
     "output_type": "display_data"
    }
   ],
   "source": [
    "losses = np.array(bp_neru.losses)\n",
    "losses = losses.reshape((3000,1))\n",
    "import matplotlib.pyplot as plt\n",
    "plt.plot(np.arange(len(losses)),losses)\n",
    "plt.xlabel('epoches')\n",
    "plt.ylabel('loss')\n",
    "plt.show()"
   ]
  },
  {
   "cell_type": "code",
   "execution_count": 161,
   "metadata": {},
   "outputs": [
    {
     "name": "stdout",
     "output_type": "stream",
     "text": [
      "(3, 8)\n",
      "预测准确率为：62.500000 %\n"
     ]
    },
    {
     "data": {
      "text/plain": [
       "0.625"
      ]
     },
     "execution_count": 161,
     "metadata": {},
     "output_type": "execute_result"
    }
   ],
   "source": [
    "bp_neru=neru_bp(learning_rate=0.4,mini_batch_size=1,n_iterations=3000,archtecture=[3,10,3])\n",
    "bp_neru.init_value()\n",
    "bp_neru.train(X_train.T,y_train.T)\n",
    "bp_neru.evaluate(X_test.T,y_test.T,True)"
   ]
  },
  {
   "cell_type": "code",
   "execution_count": 158,
   "metadata": {},
   "outputs": [
    {
     "name": "stdout",
     "output_type": "stream",
     "text": [
      "(3, 8)\n",
      "预测准确率为：75.000000 %\n"
     ]
    },
    {
     "data": {
      "text/plain": [
       "0.75"
      ]
     },
     "execution_count": 158,
     "metadata": {},
     "output_type": "execute_result"
    }
   ],
   "source": [
    "bp_neru=neru_bp(learning_rate=0.5,mini_batch_size=1,n_iterations=3000,archtecture=[3,10,3])\n",
    "bp_neru.init_value()\n",
    "bp_neru.train(X_train.T,y_train.T)\n",
    "bp_neru.evaluate(X_test.T,y_test.T,True)"
   ]
  },
  {
   "cell_type": "code",
   "execution_count": null,
   "metadata": {},
   "outputs": [],
   "source": []
  },
  {
   "cell_type": "code",
   "execution_count": 134,
   "metadata": {},
   "outputs": [
    {
     "name": "stdout",
     "output_type": "stream",
     "text": [
      "3000\n"
     ]
    }
   ],
   "source": [
    "losses = np.array(bp_neru.losses)\n",
    "print(len(losses))\n"
   ]
  },
  {
   "cell_type": "code",
   "execution_count": 135,
   "metadata": {},
   "outputs": [
    {
     "data": {
      "image/png": "[encoded data removed]",
      "text/plain": [
       "<Figure size 432x288 with 1 Axes>"
      ]
     },
     "metadata": {},
     "output_type": "display_data"
    }
   ],
   "source": [
    "losses = np.array(bp_neru.losses)\n",
    "losses = losses.reshape((3000,1))\n",
    "import matplotlib.pyplot as plt\n",
    "plt.plot(np.arange(len(losses)),losses)\n",
    "plt.xlabel('epoches')\n",
    "plt.ylabel('loss')\n",
    "plt.show()"
   ]
  },
  {
   "cell_type": "code",
   "execution_count": 142,
   "metadata": {},
   "outputs": [
    {
     "name": "stdout",
     "output_type": "stream",
     "text": [
      "[1, 6, 0]\n"
     ]
    },
    {
     "data": {
      "text/plain": [
       "array([[-2.4776119 ,  1.30147769,  0.19693998],\n",
       "       [-0.12582032, -1.98719546, -0.4778608 ],\n",
       "       [ 0.72482952, -0.60965297,  1.16674141],\n",
       "       [ 1.53309103,  0.91065749, -0.12003031]])"
      ]
     },
     "execution_count": 142,
     "metadata": {},
     "output_type": "execute_result"
    }
   ],
   "source": [
    "import random\n",
    "list1 = list(range(10))\n",
    "list2=random.sample(list1, 3)\n",
    "print(random.sample(list1, 3)) \n",
    "X[:,list2]"
   ]
  },
  {
   "cell_type": "code",
   "execution_count": 2,
   "metadata": {
    "scrolled": true
   },
   "outputs": [
    {
     "name": "stdout",
     "output_type": "stream",
     "text": [
      "(1797, 64)\n"
     ]
    },
    {
     "data": {
      "text/plain": [
       "<Figure size 640x480 with 1 Axes>"
      ]
     },
     "metadata": {},
     "output_type": "display_data"
    }
   ],
   "source": [
    "from sklearn.datasets import load_digits\n",
    "import matplotlib.pyplot as pl\n",
    "\n",
    "digits = load_digits()\n",
    "print(digits.data.shape)\n",
    "pl.imshow(digits.images[0])\n",
    "pl.show()"
   ]
  },
  {
   "cell_type": "code",
   "execution_count": 3,
   "metadata": {},
   "outputs": [
    {
     "name": "stdout",
     "output_type": "stream",
     "text": [
      "(1797, 64) (1797,)\n"
     ]
    }
   ],
   "source": [
    "X=digits.data\n",
    "y=digits.target\n",
    "print(X.shape,y.shape)"
   ]
  },
  {
   "cell_type": "code",
   "execution_count": 4,
   "metadata": {},
   "outputs": [],
   "source": [
    "y=y.reshape([1797,1])"
   ]
  },
  {
   "cell_type": "code",
   "execution_count": 5,
   "metadata": {},
   "outputs": [
    {
     "data": {
      "text/plain": [
       "(1797, 10)"
      ]
     },
     "execution_count": 5,
     "metadata": {},
     "output_type": "execute_result"
    }
   ],
   "source": [
    "from sklearn.preprocessing import LabelBinarizer\n",
    "y2=LabelBinarizer().fit_transform(y)\n",
    "y2.shape"
   ]
  },
  {
   "cell_type": "code",
   "execution_count": 6,
   "metadata": {},
   "outputs": [],
   "source": [
    "X -= X.min()\n",
    "X /= X.max()"
   ]
  },
  {
   "cell_type": "code",
   "execution_count": 7,
   "metadata": {},
   "outputs": [
    {
     "name": "stderr",
     "output_type": "stream",
     "text": [
      "C:\\ProgramData\\Anaconda3\\lib\\site-packages\\sklearn\\cross_validation.py:41: DeprecationWarning: This module was deprecated in version 0.18 in favor of the model_selection module into which all the refactored classes and functions are moved. Also note that the interface of the new CV iterators are different from that of this module. This module will be removed in 0.20.\n",
      "  \"This module will be removed in 0.20.\", DeprecationWarning)\n"
     ]
    }
   ],
   "source": [
    "from sklearn.cross_validation import train_test_split\n",
    "X_train, X_test, y_train, y_test = train_test_split(X, y2)"
   ]
  },
  {
   "cell_type": "code",
   "execution_count": 8,
   "metadata": {},
   "outputs": [],
   "source": [
    "X_train=X_train.T\n",
    "y_train=y_train.T\n",
    "X_test=X_test.T\n",
    "y_test=y_test.T"
   ]
  },
  {
   "cell_type": "code",
   "execution_count": 9,
   "metadata": {},
   "outputs": [
    {
     "data": {
      "text/plain": [
       "((64, 1347), (10, 1347))"
      ]
     },
     "execution_count": 9,
     "metadata": {},
     "output_type": "execute_result"
    }
   ],
   "source": [
    "X_train.shape,y_train.shape"
   ]
  },
  {
   "cell_type": "code",
   "execution_count": 10,
   "metadata": {},
   "outputs": [],
   "source": [
    "y2=y2.T \n",
    "X=X.T"
   ]
  },
  {
   "cell_type": "code",
   "execution_count": 11,
   "metadata": {},
   "outputs": [
    {
     "data": {
      "text/plain": [
       "((64, 1797), (10, 1797))"
      ]
     },
     "execution_count": 11,
     "metadata": {},
     "output_type": "execute_result"
    }
   ],
   "source": [
    "X.shape,y2.shape"
   ]
  },
  {
   "cell_type": "code",
   "execution_count": 13,
   "metadata": {},
   "outputs": [],
   "source": [
    "bp_neru=neru_bp(archtecture=[64,100,10])\n",
    "bp_neru.init_value()\n",
    "#bp_neru.feedforward(X)\n",
    "#bp_neru.feedforward_a"
   ]
  },
  {
   "cell_type": "code",
   "execution_count": 14,
   "metadata": {},
   "outputs": [],
   "source": [
    "bp_neru.train(X_train,y_train)"
   ]
  },
  {
   "cell_type": "code",
   "execution_count": 15,
   "metadata": {
    "scrolled": true
   },
   "outputs": [
    {
     "name": "stdout",
     "output_type": "stream",
     "text": [
      "(64, 450)\n",
      "预测准确率为：91.555556 %\n"
     ]
    },
    {
     "data": {
      "text/plain": [
       "0.9155555555555556"
      ]
     },
     "execution_count": 15,
     "metadata": {},
     "output_type": "execute_result"
    }
   ],
   "source": [
    "bp_neru.evaluate(X_test,y_test,True)"
   ]
  },
  {
   "cell_type": "code",
   "execution_count": 62,
   "metadata": {},
   "outputs": [
    {
     "name": "stdout",
     "output_type": "stream",
     "text": [
      "[array([[4.80852304]]), array([[2.82684485]]), array([[1.91912488]]), array([[1.43922731]]), array([[1.32043291]]), array([[1.22287508]]), array([[0.82580737]]), array([[1.29733596]]), array([[1.16435516]]), array([[1.06062016]]), array([[1.00259863]]), array([[0.84122625]]), array([[1.23917679]]), array([[1.14016356]]), array([[0.76466075]]), array([[1.10135689]]), array([[0.52213215]]), array([[1.40976083]]), array([[1.14362262]]), array([[0.99782162]]), array([[1.03630371]]), array([[0.7650848]]), array([[0.33162077]]), array([[1.45025217]]), array([[1.10931404]]), array([[1.00515207]]), array([[1.10627397]]), array([[1.04059404]]), array([[0.68301197]]), array([[1.06322152]]), array([[1.22243649]]), array([[0.9994349]]), array([[0.7982962]]), array([[0.8903893]]), array([[1.21869416]]), array([[0.7647399]]), array([[1.24107643]]), array([[0.55345506]]), array([[1.16157476]]), array([[0.6110978]]), array([[0.26823538]]), array([[0.13369915]]), array([[1.38477133]]), array([[1.39253074]]), array([[0.70515786]]), array([[1.3188026]]), array([[0.94486526]]), array([[1.12180686]]), array([[1.11627201]]), array([[1.03923389]]), array([[0.89810136]]), array([[1.01359786]]), array([[0.94078896]]), array([[1.10327257]]), array([[0.91226049]]), array([[1.12346334]]), array([[0.9742836]]), array([[0.98337754]]), array([[0.95413266]]), array([[1.06219959]]), array([[1.00803818]]), array([[0.79186818]]), array([[0.99075215]]), array([[0.65795912]]), array([[1.13993005]]), array([[1.09064572]]), array([[0.81876691]]), array([[1.11036662]]), array([[0.84291324]]), array([[1.1641807]]), array([[0.94793242]]), array([[1.04366368]]), array([[0.74266206]]), array([[1.15426379]]), array([[1.03039705]]), array([[0.67900322]]), array([[0.95861977]]), array([[1.1222347]]), array([[1.04666433]]), array([[1.07649528]]), array([[0.97522253]]), array([[0.98595595]]), array([[0.8139793]]), array([[1.10981614]]), array([[1.00832421]]), array([[0.71008495]]), array([[1.05079146]]), array([[1.01614713]]), array([[0.98016868]]), array([[1.00249192]]), array([[0.80686295]]), array([[0.8937318]]), array([[1.12597652]]), array([[0.94953392]]), array([[0.80822957]]), array([[1.08599271]]), array([[0.86284859]]), array([[0.61558283]]), array([[1.14854441]]), array([[0.88724716]]), array([[1.15636816]]), array([[0.91327806]]), array([[0.67836286]]), array([[1.14399607]]), array([[0.5389065]]), array([[1.22714891]]), array([[1.06381143]]), array([[1.03397157]]), array([[0.86295552]]), array([[1.05721154]]), array([[0.96831481]]), array([[1.07593963]]), array([[0.78892939]]), array([[0.90625441]]), array([[1.0512748]]), array([[0.9660524]]), array([[1.00639051]]), array([[0.81763649]]), array([[1.01255266]]), array([[0.91493596]]), array([[1.1058809]]), array([[0.77908236]]), array([[0.93316431]]), array([[1.08112115]]), array([[0.93693234]]), array([[0.97726115]]), array([[0.98958567]]), array([[0.82116543]]), array([[1.02906012]]), array([[0.95991444]]), array([[1.02860928]]), array([[0.77410783]]), array([[1.0665798]]), array([[0.94390056]]), array([[0.96148802]]), array([[0.79790439]]), array([[1.02785386]]), array([[0.99457618]]), array([[0.98813395]]), array([[0.88110174]]), array([[1.02230673]]), array([[0.92464704]]), array([[0.92170729]]), array([[1.06404465]]), array([[1.01417145]]), array([[0.95758143]]), array([[0.98791645]]), array([[0.84343996]]), array([[1.01456777]]), array([[0.92761961]]), array([[0.77056368]]), array([[1.01120517]]), array([[0.95995924]]), array([[0.8034149]]), array([[0.93619064]]), array([[0.83478399]]), array([[1.07958245]]), array([[0.68667874]]), array([[1.07880392]]), array([[0.98688083]]), array([[1.03839665]]), array([[1.01868882]]), array([[1.06538094]]), array([[0.85128183]]), array([[0.97416432]]), array([[1.01474477]]), array([[0.93452855]]), array([[0.79497348]]), array([[0.66014369]]), array([[1.05281178]]), array([[0.96944102]]), array([[0.62912135]]), array([[1.00530311]]), array([[1.04399101]]), array([[1.01003092]]), array([[0.68145708]]), array([[1.08466195]]), array([[0.92738635]]), array([[1.09867355]]), array([[0.91403799]]), array([[0.81041601]]), array([[0.82575828]]), array([[1.02898104]]), array([[0.70553917]]), array([[1.03270537]]), array([[1.02763908]]), array([[1.02253189]]), array([[0.8915275]]), array([[0.94011446]]), array([[0.91164607]]), array([[1.00741566]]), array([[0.84272298]]), array([[1.04332682]]), array([[0.9603315]]), array([[1.10105738]]), array([[0.99609171]]), array([[1.01258358]]), array([[0.93110578]]), array([[0.91202461]]), array([[0.94218114]]), array([[0.91518805]]), array([[0.78423725]]), array([[0.94024958]]), array([[1.00306498]]), array([[0.87616239]]), array([[0.93364389]]), array([[0.86410644]]), array([[1.0617854]]), array([[0.96549477]]), array([[0.99864467]]), array([[0.95074878]]), array([[0.83503451]]), array([[1.08281572]]), array([[0.90891517]]), array([[1.00108012]]), array([[0.96400419]]), array([[0.81554627]]), array([[0.93899338]]), array([[0.9729061]]), array([[0.73540974]]), array([[1.01771529]]), array([[1.01013946]]), array([[0.92848683]]), array([[1.06849083]]), array([[0.81750623]]), array([[1.00324168]]), array([[0.93898621]]), array([[0.95089344]]), array([[0.83485484]]), array([[1.01119716]]), array([[0.90939316]]), array([[0.85183602]]), array([[0.92892954]]), array([[1.01619319]]), array([[0.84201971]]), array([[0.97114783]]), array([[0.83591379]]), array([[0.89182955]]), array([[1.00976338]]), array([[0.93525911]]), array([[0.92403769]]), array([[0.88322805]]), array([[0.99859303]]), array([[0.83558904]]), array([[1.07095881]]), array([[0.91284387]]), array([[0.95967214]]), array([[1.0293976]]), array([[0.93798733]]), array([[0.97219365]]), array([[0.86701471]]), array([[0.88448336]]), array([[0.76469931]]), array([[1.05341175]]), array([[1.01467147]]), array([[0.91840926]]), array([[0.85846319]]), array([[0.73413653]]), array([[0.82228578]]), array([[1.09939814]]), array([[1.01484623]]), array([[0.98583475]]), array([[1.00782868]]), array([[0.74681383]]), array([[0.9083356]]), array([[0.93529564]]), array([[0.82982493]]), array([[1.02433428]]), array([[1.0055361]]), array([[0.86906506]]), array([[0.98283831]]), array([[1.01105324]]), array([[0.93400073]]), array([[1.00599724]]), array([[0.92569543]]), array([[0.85452552]]), array([[1.00181734]]), array([[0.98647335]]), array([[0.99939409]]), array([[0.94909464]]), array([[0.80742331]]), array([[0.6876692]]), array([[0.96498151]]), array([[0.84289556]]), array([[0.98588653]]), array([[0.97245733]]), array([[1.01031154]]), array([[1.02952894]]), array([[0.96708739]]), array([[0.89928711]]), array([[0.8056966]]), array([[0.93393789]]), array([[0.87579483]]), array([[0.93882847]]), array([[0.79282132]]), array([[1.01798703]]), array([[0.90421151]]), array([[0.92058528]]), array([[0.7967751]]), array([[1.02318266]]), array([[1.02536373]]), array([[0.99512246]]), array([[0.83301112]]), array([[0.86502593]]), array([[0.80547791]]), array([[1.0596557]]), array([[0.9751099]]), array([[0.92893235]]), array([[0.97648703]]), array([[0.84164768]]), array([[0.9999774]]), array([[0.91240808]]), array([[0.92578142]]), array([[1.02641498]]), array([[0.92666948]]), array([[0.85552436]]), array([[0.90467734]]), array([[0.74286153]]), array([[0.61694769]]), array([[0.94918281]]), array([[0.96058203]]), array([[0.94802755]]), array([[0.87863099]]), array([[0.8792727]]), array([[0.73700109]]), array([[0.61091197]]), array([[0.93663055]]), array([[1.02087946]]), array([[1.03841104]]), array([[0.94450628]]), array([[1.09970204]]), array([[0.72153657]]), array([[0.85513955]]), array([[0.87029675]]), array([[0.71385861]]), array([[1.00030513]]), array([[0.59771818]]), array([[1.16592642]]), array([[1.08933371]]), array([[1.00831905]]), array([[1.04188581]]), array([[0.92029373]]), array([[0.85533323]]), array([[0.94049171]]), array([[0.85325752]]), array([[1.02286676]]), array([[0.72561606]]), array([[0.60210593]]), array([[0.98937652]]), array([[1.00404703]]), array([[0.87739754]]), array([[0.62427932]]), array([[0.96573716]]), array([[0.4989927]]), array([[1.0753629]]), array([[0.97188272]]), array([[0.84546689]]), array([[0.97484358]]), array([[0.86789095]]), array([[0.92204942]]), array([[0.98452425]]), array([[0.93410018]]), array([[0.9117744]]), array([[0.76060141]]), array([[0.80661644]]), array([[0.90507726]]), array([[1.04965339]]), array([[0.84802712]]), array([[1.06089392]]), array([[0.75340985]]), array([[0.6135873]]), array([[1.02089857]]), array([[0.8812945]]), array([[0.86519339]]), array([[0.63838197]]), array([[1.05852113]]), array([[0.86264969]]), array([[0.85936153]]), array([[0.69259416]]), array([[0.68278112]]), array([[0.96212506]]), array([[1.10179649]]), array([[1.13479125]]), array([[0.89052973]]), array([[1.004048]]), array([[0.9932129]]), array([[0.91369524]]), array([[0.71598679]]), array([[0.78372345]]), array([[0.62543765]]), array([[0.93978883]]), array([[0.92899136]]), array([[0.87481123]]), array([[0.76020395]]), array([[0.85221581]]), array([[0.86551273]]), array([[1.03788]]), array([[0.95570395]]), array([[0.96728245]]), array([[0.94050997]]), array([[0.83473606]]), array([[0.88300345]]), array([[0.71974013]]), array([[0.76988733]]), array([[0.56259159]]), array([[0.84251467]]), array([[1.02990222]]), array([[0.65966461]]), array([[0.9441376]]), array([[0.55620423]]), array([[0.9868136]]), array([[0.9399365]]), array([[0.54755231]]), array([[0.83634629]]), array([[1.03973447]]), array([[0.92587583]]), array([[0.92851888]]), array([[1.10605381]]), array([[0.75299104]]), array([[0.94543905]]), array([[0.81946094]]), array([[0.93525953]]), array([[0.82742975]]), array([[0.58923527]]), array([[1.04201456]]), array([[0.87052802]]), array([[0.90556266]]), array([[0.79265578]]), array([[0.6322021]]), array([[0.89933202]]), array([[0.78114696]]), array([[0.9259128]]), array([[0.92856985]]), array([[0.892117]]), array([[0.64873843]]), array([[0.96048805]]), array([[0.83981106]]), array([[0.78291012]]), array([[0.74238628]]), array([[1.00739225]]), array([[0.86839708]]), array([[1.0711814]]), array([[0.8525018]]), array([[0.93509894]]), array([[0.8406346]]), array([[0.81416486]]), array([[0.8011495]]), array([[0.53950698]]), array([[0.47717984]]), array([[1.13252925]]), array([[0.85450857]]), array([[0.87635983]]), array([[0.81548144]]), array([[0.9472136]]), array([[0.70914018]]), array([[0.7338722]]), array([[0.96683782]]), array([[0.91602589]]), array([[0.78668911]]), array([[0.78724467]]), array([[0.4475466]]), array([[1.10861773]]), array([[0.42808467]]), array([[0.87482282]]), array([[0.54925019]]), array([[0.87895225]]), array([[0.4199713]]), array([[0.84514671]]), array([[0.99015475]]), array([[0.95770239]]), array([[0.84946309]]), array([[0.75295228]]), array([[0.53233929]]), array([[0.68387925]]), array([[0.63704831]]), array([[0.4087837]]), array([[0.6251051]]), array([[1.15883075]]), array([[0.87458621]]), array([[0.7140164]]), array([[0.80763031]]), array([[0.61658528]]), array([[0.86915136]]), array([[1.01961649]]), array([[0.90879569]]), array([[0.94844242]]), array([[0.71464886]]), array([[0.76844626]]), array([[0.52571319]]), array([[0.77719083]]), array([[0.91583677]]), array([[0.62239527]]), array([[0.47062936]]), array([[0.77303817]]), array([[0.6713102]]), array([[0.86006955]]), array([[0.87022363]]), array([[0.5173394]]), array([[0.78444394]]), array([[0.80392796]]), array([[0.65701928]]), array([[0.84756376]]), array([[0.78973863]]), array([[0.94182076]]), array([[0.53166173]]), array([[0.98072134]]), array([[1.29895225]]), array([[0.82713036]]), array([[0.86453315]]), array([[0.75386028]]), array([[0.84210615]]), array([[0.92397845]]), array([[0.71640272]]), array([[1.05364591]]), array([[0.73209016]]), array([[0.68895089]]), array([[0.62217484]]), array([[0.38902253]]), array([[0.78998939]]), array([[1.04305911]]), array([[0.61009076]]), array([[0.60957489]]), array([[0.76966717]]), array([[0.61135172]]), array([[0.92264631]]), array([[0.57612452]]), array([[0.93529181]]), array([[1.00440678]]), array([[0.94245331]]), array([[0.68718754]]), array([[0.42712828]]), array([[0.7003418]]), array([[1.06795263]]), array([[0.5973182]]), array([[0.48895056]]), array([[0.87757518]]), array([[0.77391093]]), array([[1.19299864]]), array([[0.43683383]]), array([[0.8852484]]), array([[0.57616355]]), array([[0.99315261]]), array([[0.97725689]]), array([[0.72092997]]), array([[0.84159095]]), array([[0.71625842]]), array([[0.93954132]]), array([[0.81709121]]), array([[0.38740991]]), array([[0.70433269]]), array([[0.30353002]]), array([[0.63583304]]), array([[0.78791837]]), array([[0.91759121]]), array([[0.79969647]]), array([[1.00860426]]), array([[0.60863106]]), array([[0.73110107]]), array([[0.59995047]]), array([[1.00410897]]), array([[0.70882174]]), array([[0.50718849]]), array([[0.94533712]]), array([[0.72947016]]), array([[0.64252933]]), array([[0.80426326]]), array([[1.07132858]]), array([[0.59956969]]), array([[0.79382691]]), array([[0.72854369]]), array([[0.48330483]]), array([[0.67742247]]), array([[0.99223612]]), array([[0.79020653]]), array([[0.95681742]]), array([[0.71020847]]), array([[0.46923609]]), array([[0.72307757]]), array([[0.25774101]]), array([[0.47087789]]), array([[0.78887667]]), array([[1.05124359]]), array([[0.89545115]]), array([[0.55193928]]), array([[0.38245552]]), array([[0.29943337]]), array([[0.19128096]]), array([[0.76307704]]), array([[0.273849]]), array([[0.93462669]]), array([[0.30417539]]), array([[0.97935572]]), array([[0.6567675]]), array([[0.55544652]]), array([[0.80494788]]), array([[0.6123629]]), array([[1.32921416]]), array([[0.23335921]]), array([[0.89373689]]), array([[0.89234197]]), array([[0.3986382]]), array([[0.78013378]]), array([[0.9231565]]), array([[0.47867825]]), array([[0.83835878]]), array([[0.92194943]]), array([[0.90387497]]), array([[0.20045096]]), array([[0.7590848]]), array([[0.4211871]]), array([[0.2858247]]), array([[0.63856997]]), array([[0.47479748]]), array([[0.23496044]]), array([[0.9729512]]), array([[1.0053192]]), array([[0.72327383]]), array([[0.6287065]]), array([[0.35377144]]), array([[0.87109328]]), array([[1.01168658]]), array([[0.83310698]]), array([[0.63509973]]), array([[0.29603511]]), array([[0.09139944]]), array([[0.08946789]]), array([[0.87677495]]), array([[0.23802949]]), array([[0.32846551]]), array([[0.55490136]]), array([[1.26240567]]), array([[0.71865779]]), array([[0.3018784]]), array([[1.05515054]]), array([[0.3532372]]), array([[0.45327146]]), array([[0.92065047]]), array([[0.69704393]]), array([[0.44813186]]), array([[1.01659714]]), array([[0.34436218]]), array([[0.58193778]]), array([[0.81854824]]), array([[0.21287871]]), array([[0.10602609]]), array([[1.06546117]]), array([[0.15875374]]), array([[0.54857061]]), array([[0.54210967]]), array([[0.40940452]]), array([[1.01628476]]), array([[0.83743716]]), array([[1.11617219]]), array([[0.77961153]]), array([[0.23041274]]), array([[0.81021218]]), array([[0.23200593]]), array([[0.70727807]]), array([[0.27189828]]), array([[0.65707476]]), array([[0.11192914]]), array([[0.33596828]]), array([[1.16567075]]), array([[0.85231192]]), array([[0.88030281]]), array([[0.35485191]]), array([[1.03192042]]), array([[0.32652635]]), array([[0.61985535]]), array([[0.52637772]]), array([[0.8610369]]), array([[0.21287241]]), array([[0.65414161]]), array([[0.6896072]]), array([[0.11054389]]), array([[0.21526413]]), array([[1.00497715]]), array([[0.59221972]]), array([[0.35204417]]), array([[0.83218649]]), array([[0.24162163]]), array([[0.20774847]]), array([[1.22241784]]), array([[0.48204252]]), array([[0.85393199]]), array([[0.53896242]]), array([[0.47716725]]), array([[0.33513874]]), array([[0.31588101]]), array([[0.05400701]]), array([[0.58655351]]), array([[0.65564704]]), array([[0.3867583]]), array([[0.24489233]]), array([[0.47645202]]), array([[0.76373696]]), array([[0.71093564]]), array([[0.94746442]]), array([[0.26347364]]), array([[0.3421924]]), array([[0.94228345]]), array([[0.2554288]]), array([[0.33095475]]), array([[0.81063084]]), array([[0.43972977]]), array([[0.18957612]]), array([[0.8283517]]), array([[0.53760816]]), array([[1.03664157]]), array([[1.14728104]]), array([[0.8031784]]), array([[0.23332495]]), array([[0.2063583]]), array([[0.26776039]]), array([[0.60835876]]), array([[0.24986052]]), array([[0.52314056]]), array([[0.12180285]]), array([[0.6182549]]), array([[0.38941872]]), array([[1.06630883]]), array([[0.16884748]]), array([[0.52709032]]), array([[0.29436799]]), array([[0.75388053]]), array([[0.775327]]), array([[0.33591123]]), array([[0.15335872]]), array([[0.11721092]]), array([[0.15062469]]), array([[0.61112688]]), array([[0.77758895]]), array([[0.23042893]]), array([[1.15051374]]), array([[0.16401537]]), array([[0.38379556]]), array([[0.75980086]]), array([[0.60179914]]), array([[0.67405539]]), array([[0.68869886]]), array([[0.07949976]]), array([[0.40098944]]), array([[1.01208283]]), array([[0.36449497]]), array([[0.39009106]]), array([[0.42714418]]), array([[0.21963248]]), array([[0.40826509]]), array([[0.6091085]]), array([[0.21112462]]), array([[1.01296839]]), array([[0.89826657]]), array([[0.88242615]]), array([[0.69527354]]), array([[0.40189695]]), array([[0.19646144]]), array([[0.86911601]]), array([[0.50110685]]), array([[0.58190432]]), array([[0.08676456]]), array([[0.36726699]]), array([[0.61148014]]), array([[0.15067931]]), array([[0.94769]]), array([[1.07567203]]), array([[0.17582162]]), array([[0.17318861]]), array([[0.89868235]]), array([[1.07656554]]), array([[1.14304636]]), array([[0.64879722]]), array([[0.07033684]]), array([[0.79738723]]), array([[0.82356635]]), array([[0.24812367]]), array([[0.17517311]]), array([[0.80263599]]), array([[0.14705316]]), array([[0.81294217]]), array([[0.99069469]]), array([[0.8751214]]), array([[0.55654512]]), array([[0.61475523]]), array([[0.88258294]]), array([[0.13772474]]), array([[0.75232202]]), array([[0.60323136]]), array([[0.28293753]]), array([[1.11770102]]), array([[0.52033353]]), array([[1.00470231]]), array([[0.19348121]]), array([[0.27993467]]), array([[0.18556428]]), array([[0.63363138]]), array([[1.13062579]]), array([[0.8100322]]), array([[0.18200119]]), array([[0.05025407]]), array([[0.26020616]]), array([[0.22110729]]), array([[0.052767]]), array([[0.60279278]]), array([[1.15096591]]), array([[0.45528891]]), array([[0.7758536]]), array([[0.29016396]]), array([[0.69682702]]), array([[0.03081868]]), array([[0.52351092]]), array([[1.11524411]]), array([[0.04693207]]), array([[0.64794112]]), array([[0.20955175]]), array([[0.91412803]]), array([[0.13973438]]), array([[0.03246079]]), array([[0.66253855]]), array([[0.95954023]]), array([[0.06342098]]), array([[0.74709532]]), array([[1.10064729]]), array([[0.37410366]]), array([[0.72961412]]), array([[0.96675978]]), array([[0.60872183]]), array([[0.09034021]]), array([[0.66114075]]), array([[0.81131375]]), array([[0.13332301]]), array([[0.90115854]]), array([[0.45821655]]), array([[0.06880987]]), array([[0.24500954]]), array([[0.9529512]]), array([[0.3637084]]), array([[0.0343166]]), array([[0.41369675]]), array([[0.19906702]]), array([[0.4620666]]), array([[0.87340369]]), array([[0.36695967]]), array([[0.71711383]]), array([[0.17408427]]), array([[0.31453629]]), array([[0.05839012]]), array([[0.44695116]]), array([[0.15934595]]), array([[0.92471833]]), array([[0.07190211]]), array([[0.39039011]]), array([[0.44801068]]), array([[0.45390844]]), array([[0.06979391]]), array([[0.23006445]]), array([[0.5558438]]), array([[0.13025566]]), array([[0.67566376]]), array([[0.61905165]]), array([[1.16890497]]), array([[0.78084036]]), array([[1.05896474]]), array([[1.03391242]]), array([[0.40688926]]), array([[0.43588633]]), array([[0.02702233]]), array([[0.01981078]]), array([[0.45834097]]), array([[0.06937636]]), array([[0.93296128]]), array([[0.62270724]]), array([[0.12608608]]), array([[0.06850441]]), array([[0.92939069]]), array([[0.54468556]]), array([[0.21673723]]), array([[0.8829217]]), array([[0.14381506]]), array([[0.37690841]]), array([[0.67333122]]), array([[0.59478023]]), array([[1.95062988]]), array([[0.24284511]]), array([[0.20123032]]), array([[0.05159909]]), array([[0.05492951]]), array([[1.45653613]]), array([[0.20206069]]), array([[1.24200373]]), array([[0.59730822]]), array([[0.25264395]]), array([[0.52211032]]), array([[0.17695261]]), array([[0.33590622]]), array([[0.15347005]]), array([[0.09991703]]), array([[0.00863928]]), array([[1.00087038]]), array([[0.63107328]]), array([[0.01111723]]), array([[0.02153839]]), array([[0.10391323]]), array([[0.01847171]]), array([[1.42442107]]), array([[0.54560037]]), array([[0.1748769]]), array([[0.02242301]]), array([[0.82674464]]), array([[0.65051681]]), array([[0.16624333]]), array([[0.52133345]]), array([[0.69993968]]), array([[0.14017694]]), array([[0.12075885]]), array([[0.0296077]]), array([[0.07456769]]), array([[0.77443587]]), array([[0.04262404]]), array([[0.11758693]]), array([[0.32119972]]), array([[0.22680951]]), array([[0.18499164]]), array([[0.88620958]]), array([[0.69904637]]), array([[0.16598124]]), array([[0.66044617]]), array([[0.7322356]]), array([[0.00689788]]), array([[0.40569021]]), array([[0.08617791]]), array([[0.26677434]]), array([[0.95926287]]), array([[0.77831997]]), array([[0.51465197]]), array([[0.13679758]]), array([[0.43426882]]), array([[0.99238788]]), array([[0.08492425]]), array([[0.14799708]]), array([[0.17411874]]), array([[0.03981595]]), array([[0.33101794]]), array([[0.5217097]]), array([[0.05188791]]), array([[0.11286829]]), array([[0.29398791]]), array([[0.34370876]]), array([[0.09574276]]), array([[0.98293857]]), array([[0.76554551]]), array([[0.23186497]]), array([[0.03578709]]), array([[1.30042526]]), array([[1.54894026]]), array([[0.16036055]]), array([[0.68015883]]), array([[0.03546625]]), array([[0.0514322]]), array([[0.07505613]]), array([[0.99389065]]), array([[0.52988939]]), array([[0.0788966]]), array([[0.31885743]]), array([[0.91957768]]), array([[0.17134408]]), array([[0.31615624]]), array([[1.06021216]]), array([[0.91326929]]), array([[1.02589502]]), array([[1.03260323]]), array([[0.34993409]]), array([[0.63377933]]), array([[1.0853313]]), array([[0.58537282]]), array([[0.11493844]]), array([[0.48694716]]), array([[0.51459757]]), array([[0.37973705]]), array([[0.3378217]]), array([[0.06998576]]), array([[0.65934098]]), array([[0.43650538]]), array([[0.90926662]]), array([[0.30118006]]), array([[0.08397171]]), array([[0.63405742]]), array([[0.87686161]]), array([[0.31185785]]), array([[0.15152642]]), array([[0.69709066]]), array([[0.27185908]]), array([[0.7387029]]), array([[0.10798498]]), array([[0.0616815]]), array([[0.5635302]]), array([[0.31507095]]), array([[0.28101782]]), array([[0.3974534]]), array([[1.03381607]]), array([[0.10248991]]), array([[0.17216633]]), array([[0.09069553]]), array([[0.14923843]]), array([[0.06218236]]), array([[0.02480205]]), array([[0.21877733]]), array([[0.10567606]]), array([[0.11418043]]), array([[0.07688616]]), array([[0.0418577]]), array([[0.0390511]]), array([[0.2020281]]), array([[1.20160354]]), array([[0.06520735]]), array([[0.9033053]]), array([[0.60065434]]), array([[0.01745299]]), array([[0.92761045]]), array([[0.39100215]]), array([[0.62147035]]), array([[0.01321718]]), array([[1.03708281]]), array([[0.84856625]]), array([[0.05986882]]), array([[0.90436344]]), array([[0.25186984]]), array([[0.06455396]]), array([[0.83663926]]), array([[0.80324956]]), array([[0.28120655]]), array([[1.1545479]]), array([[0.29843187]]), array([[0.62109307]]), array([[0.00784777]]), array([[0.03447439]]), array([[0.84339551]]), array([[0.06165985]]), array([[0.05113842]]), array([[0.38213469]]), array([[0.89888504]]), array([[0.08512362]]), array([[0.13017845]]), array([[0.04526953]]), array([[0.02800497]]), array([[0.93210841]]), array([[0.52461736]]), array([[0.01883582]]), array([[0.02567027]]), array([[0.0310217]]), array([[0.75312277]]), array([[0.01237838]]), array([[0.97163422]]), array([[0.04645006]]), array([[0.08330856]]), array([[0.25458968]]), array([[0.60061765]]), array([[0.22946296]]), array([[0.03418603]]), array([[0.14997329]]), array([[0.04653478]]), array([[0.71648802]]), array([[0.12738476]]), array([[0.06636083]]), array([[0.18577943]]), array([[0.02540331]]), array([[0.04889568]]), array([[0.22600441]]), array([[0.22110274]]), array([[0.05364637]]), array([[0.61638691]]), array([[0.380854]]), array([[0.62933472]]), array([[0.30809025]]), array([[1.00542902]]), array([[0.10153673]]), array([[0.26066182]]), array([[0.67467681]]), array([[0.49791296]]), array([[0.01001816]]), array([[0.48579344]]), array([[0.18213158]]), array([[0.05210136]]), array([[0.61640826]]), array([[0.01443405]]), array([[1.54417099]]), array([[0.09108533]]), array([[0.31930172]]), array([[0.33526561]]), array([[0.23633919]]), array([[0.17917956]]), array([[0.05018561]]), array([[0.09034368]]), array([[0.4212276]]), array([[0.09693687]]), array([[0.06561087]]), array([[0.0344327]]), array([[0.11223141]]), array([[0.06919739]]), array([[0.85695881]]), array([[0.65957883]]), array([[0.4315866]]), array([[0.08366326]]), array([[0.27470461]]), array([[0.13950389]]), array([[0.68991114]]), array([[1.45917275]]), array([[1.92970575]]), array([[0.32822607]]), array([[1.16254385]]), array([[1.45141863]]), array([[0.24331459]]), array([[0.13398131]]), array([[0.02751273]]), array([[0.02252603]]), array([[0.64145981]]), array([[0.38874709]]), array([[0.8591635]]), array([[1.40264702]]), array([[0.28966393]]), array([[0.83246439]]), array([[0.0434507]]), array([[0.02299372]]), array([[0.09725839]]), array([[0.38032546]]), array([[0.03701784]]), array([[0.06313816]]), array([[0.27597509]]), array([[0.10072052]]), array([[0.0185998]]), array([[0.02885973]]), array([[0.87176594]]), array([[0.24881524]]), array([[0.39564058]]), array([[0.06820528]]), array([[0.80805948]]), array([[0.24683151]]), array([[0.05138548]]), array([[0.37069758]]), array([[0.70630267]]), array([[0.70470981]]), array([[0.0910012]]), array([[0.11392797]]), array([[0.6870241]]), array([[0.09371614]]), array([[0.15272117]]), array([[0.23829665]]), array([[1.41612325]]), array([[0.35247192]]), array([[0.04654103]]), array([[0.03530414]]), array([[0.01040193]]), array([[0.27406689]]), array([[0.38560697]]), array([[0.05898041]]), array([[0.03283606]]), array([[0.95259982]]), array([[0.02129694]]), array([[0.61785544]]), array([[0.13942897]]), array([[0.14590672]]), array([[0.44517876]]), array([[0.02319513]]), array([[0.05197708]]), array([[0.03721417]]), array([[0.27495718]]), array([[0.88174761]]), array([[0.81250781]]), array([[0.10307998]]), array([[0.50687697]]), array([[0.79679487]]), array([[0.05671987]]), array([[0.16769388]]), array([[0.33114901]]), array([[0.42346353]]), array([[0.8679333]]), array([[0.15136428]]), array([[0.00805298]]), array([[0.03468558]]), array([[0.26895407]]), array([[0.09006638]]), array([[0.00208179]]), array([[0.01120508]]), array([[0.11681131]]), array([[0.0078438]]), array([[0.00643172]]), array([[0.03864019]]), array([[0.26610686]]), array([[0.08143441]]), array([[0.0699091]]), array([[0.5304368]]), array([[0.74879555]]), array([[0.00854716]]), array([[0.0106559]]), array([[0.18866692]]), array([[0.00799998]]), array([[0.90320283]]), array([[0.01398446]]), array([[0.11165996]]), array([[0.60334653]]), array([[0.01447227]]), array([[0.12445657]]), array([[0.77747919]]), array([[0.27096972]]), array([[0.03133175]]), array([[0.62096896]]), array([[0.04710163]]), array([[0.32016699]]), array([[0.00976383]]), array([[0.00522144]]), array([[0.0121673]]), array([[0.88932613]]), array([[0.16331399]]), array([[0.83093459]]), array([[0.06494762]]), array([[0.27091471]]), array([[0.01038176]]), array([[0.01321518]]), array([[0.0084407]]), array([[0.06186015]]), array([[0.75723581]]), array([[0.37717013]]), array([[0.02655238]]), array([[0.6597081]]), array([[0.19353142]]), array([[0.02841144]]), array([[0.42848857]]), array([[0.04739322]]), array([[0.94675577]]), array([[1.62827136]]), array([[0.10698624]]), array([[0.09645611]]), array([[0.01546115]]), array([[0.57764339]]), array([[0.43276157]]), array([[0.56964146]]), array([[0.02828274]]), array([[0.38120118]]), array([[0.02241128]]), array([[0.38241411]]), array([[0.38251617]]), array([[0.08909898]]), array([[0.01657043]]), array([[0.60918129]]), array([[0.58609842]]), array([[0.81457716]]), array([[0.11958217]]), array([[0.24688573]]), array([[0.29507062]]), array([[0.45890407]]), array([[0.02710092]]), array([[0.00726541]]), array([[0.28101469]]), array([[0.82112637]]), array([[0.83141849]]), array([[0.05264396]]), array([[0.01907374]]), array([[0.11238996]]), array([[0.05786379]]), array([[0.12333268]]), array([[0.56214954]]), array([[0.60648973]]), array([[0.61818263]]), array([[0.02199899]]), array([[0.40531965]]), array([[0.02122201]]), array([[0.80230489]]), array([[0.02608945]]), array([[1.12122119]]), array([[0.01037192]]), array([[0.00202947]]), array([[0.38710302]]), array([[0.16966441]]), array([[0.01261867]]), array([[0.00289446]]), array([[0.19780301]]), array([[0.4515526]]), array([[0.98895726]]), array([[0.00567167]]), array([[0.04733494]]), array([[0.20846575]]), array([[0.13336499]]), array([[0.75902994]]), array([[0.01009607]]), array([[0.25056568]]), array([[0.50340991]]), array([[0.06327012]]), array([[0.1972635]]), array([[0.07881078]]), array([[0.58313675]]), array([[0.01548239]]), array([[0.04170802]]), array([[0.08253206]]), array([[0.16467283]]), array([[0.0034641]]), array([[0.10418539]]), array([[0.71138497]]), array([[0.23519437]]), array([[0.69959178]]), array([[0.00460937]]), array([[0.28032986]]), array([[0.00576437]]), array([[0.39356151]]), array([[0.08149035]]), array([[0.1681957]]), array([[0.15998213]]), array([[0.7205146]]), array([[0.02278243]]), array([[0.15399505]]), array([[0.00887831]]), array([[0.01945557]]), array([[0.28858122]]), array([[0.77996116]]), array([[0.08615111]]), array([[0.0307334]]), array([[0.41132265]]), array([[0.01141937]]), array([[0.64460715]]), array([[0.15652138]]), array([[0.16345917]]), array([[0.00652947]]), array([[0.25826923]]), array([[0.73193471]]), array([[0.21592478]]), array([[0.0181191]]), array([[0.0349438]]), array([[0.14454697]]), array([[0.24704764]]), array([[0.61430839]]), array([[0.00902988]]), array([[0.03760247]]), array([[0.75611383]]), array([[0.20559201]]), array([[0.0026702]]), array([[0.00195144]]), array([[0.17115084]]), array([[0.54718949]]), array([[0.33880937]]), array([[0.3555005]]), array([[0.00611838]]), array([[0.25753794]]), array([[0.00111812]]), array([[0.32412962]]), array([[0.01688937]]), array([[0.91054695]]), array([[0.05940175]]), array([[0.07209914]]), array([[0.06112578]]), array([[0.61420611]]), array([[0.01126833]]), array([[0.0024484]]), array([[0.0063336]]), array([[0.54661881]]), array([[0.16754908]]), array([[0.03953083]]), array([[0.06299197]]), array([[0.12999823]]), array([[0.03942776]]), array([[0.0416209]]), array([[0.919094]]), array([[0.15102891]]), array([[0.08220105]]), array([[0.91035135]]), array([[0.72155139]]), array([[0.09632349]]), array([[0.55605889]]), array([[1.64155862]]), array([[0.24268886]]), array([[0.00581371]]), array([[0.75925206]]), array([[0.01420625]]), array([[0.03806808]]), array([[0.79197454]]), array([[0.02615068]]), array([[0.02942509]]), array([[0.02164258]]), array([[0.03571149]]), array([[0.88504328]]), array([[0.1148139]]), array([[0.92745013]]), array([[0.97599229]]), array([[0.39868173]]), array([[0.01338396]]), array([[0.04027028]]), array([[0.5103949]]), array([[0.45858603]]), array([[0.06424292]]), array([[0.60659067]]), array([[0.04626084]]), array([[0.02248017]]), array([[0.02179002]]), array([[0.02072669]]), array([[0.58548478]]), array([[0.04662729]]), array([[0.01079981]]), array([[0.46966461]]), array([[0.07903413]]), array([[0.78504232]]), array([[0.15921857]]), array([[0.00397441]]), array([[0.05735785]]), array([[0.40466229]]), array([[0.13205488]]), array([[0.31536925]]), array([[0.01090843]]), array([[0.328715]]), array([[0.13369961]]), array([[0.1287617]]), array([[0.42280693]]), array([[0.03422346]]), array([[0.00144626]]), array([[0.0799658]]), array([[0.01361951]]), array([[0.2237287]]), array([[0.01255852]]), array([[0.01328924]]), array([[0.89433596]]), array([[0.04186432]]), array([[0.00379923]]), array([[0.06737659]]), array([[0.46567399]]), array([[0.23294683]]), array([[0.85418386]]), array([[1.09047136]]), array([[0.0576551]]), array([[0.67698018]]), array([[0.31805201]]), array([[0.13256658]]), array([[0.00860756]]), array([[0.0301257]]), array([[0.04333445]]), array([[0.00190297]]), array([[0.23231396]]), array([[0.00094709]]), array([[0.00667684]]), array([[0.01941699]]), array([[0.72738933]]), array([[0.88040815]]), array([[0.55638339]]), array([[0.03422533]]), array([[0.01017563]]), array([[0.01100475]]), array([[0.53365859]]), array([[0.00943612]]), array([[0.23302773]]), array([[0.02448415]]), array([[0.00712341]]), array([[0.35959349]]), array([[0.07659671]]), array([[0.00134132]]), array([[0.36775237]]), array([[0.20126352]]), array([[0.39122713]]), array([[0.00060022]]), array([[0.24892673]]), array([[0.00435127]]), array([[0.02591088]]), array([[0.00283683]]), array([[0.3961292]]), array([[0.04560512]]), array([[0.00379752]]), array([[0.02384633]]), array([[0.43653322]]), array([[0.00061939]]), array([[0.07602593]]), array([[0.72709993]]), array([[0.02223388]]), array([[0.02172409]]), array([[0.81805531]]), array([[0.66525152]]), array([[0.07902287]]), array([[0.01949875]]), array([[0.85254602]]), array([[0.01216247]]), array([[0.81417318]]), array([[0.42712078]]), array([[0.62206771]]), array([[0.00160479]]), array([[0.78436848]]), array([[0.65427816]]), array([[0.00213364]]), array([[0.28713026]]), array([[0.01779373]]), array([[0.0389589]]), array([[0.32334285]]), array([[0.01466287]]), array([[0.04786242]]), array([[0.01894408]]), array([[0.02705535]]), array([[0.02232056]]), array([[0.47604457]]), array([[0.06781482]]), array([[0.00608814]]), array([[0.62491026]]), array([[0.01162589]]), array([[0.17383915]]), array([[0.00517347]]), array([[0.19112155]]), array([[0.00220298]]), array([[0.08889912]]), array([[0.10799054]]), array([[0.57886344]]), array([[0.09860701]]), array([[0.48553435]]), array([[0.05827341]]), array([[0.04689139]]), array([[0.03187009]]), array([[0.13990584]]), array([[0.8809578]]), array([[0.23923417]]), array([[0.54254327]]), array([[0.26967186]]), array([[0.00660786]]), array([[0.00249612]]), array([[0.07142205]]), array([[0.5031486]]), array([[0.15295814]]), array([[1.22074585]]), array([[0.05242892]]), array([[0.00447581]]), array([[0.00307213]]), array([[0.00941148]]), array([[0.01607761]]), array([[0.06986161]]), array([[0.22317694]]), array([[0.00433716]]), array([[0.00228104]]), array([[0.0115693]]), array([[0.1083177]]), array([[0.90885222]]), array([[0.23110212]]), array([[0.0163017]]), array([[0.04640784]]), array([[0.45394249]]), array([[0.0385254]]), array([[0.00694156]]), array([[0.0033655]]), array([[0.16751893]]), array([[0.01046617]]), array([[0.01685956]]), array([[0.00476928]]), array([[0.01136498]]), array([[0.16424995]]), array([[0.11605142]]), array([[0.12410127]]), array([[0.28188735]]), array([[0.0057807]]), array([[0.43353428]]), array([[0.23835814]]), array([[0.00216764]]), array([[0.01083618]]), array([[0.03766254]]), array([[0.07368155]]), array([[0.35219473]]), array([[0.01087264]]), array([[0.28757252]]), array([[0.00464256]]), array([[0.02170821]]), array([[0.09308929]]), array([[0.00279738]]), array([[0.04549862]]), array([[0.00264043]]), array([[0.00243293]]), array([[0.00301251]]), array([[0.03645534]]), array([[0.00182916]]), array([[0.29189985]]), array([[0.00086193]]), array([[0.37129587]]), array([[0.02480642]]), array([[0.00194596]]), array([[0.05042243]]), array([[0.5675698]]), array([[0.00840801]]), array([[0.00734809]]), array([[0.04324476]]), array([[0.01369686]]), array([[0.0236697]]), array([[0.25553919]]), array([[0.22516404]]), array([[0.32338553]]), array([[0.28465898]]), array([[0.121034]]), array([[0.03026561]]), array([[0.00442421]]), array([[0.00253861]]), array([[0.06020313]]), array([[0.66107267]]), array([[0.03466757]]), array([[0.0017209]]), array([[0.00416577]]), array([[0.00053065]]), array([[0.00126705]]), array([[0.74295477]]), array([[0.0383248]]), array([[0.01089118]]), array([[0.00120634]]), array([[0.93603622]]), array([[0.7740682]]), array([[0.71870713]]), array([[0.01688179]]), array([[0.6351866]]), array([[0.00935529]]), array([[0.0056517]]), array([[0.0227899]]), array([[0.30105782]]), array([[0.09668799]]), array([[0.01097177]]), array([[0.21781876]]), array([[0.88458007]]), array([[0.41482311]]), array([[0.02524264]]), array([[0.00092228]]), array([[0.00746405]]), array([[0.07332123]]), array([[0.01605811]]), array([[0.00192933]]), array([[0.79609062]]), array([[0.00723767]]), array([[0.02418103]]), array([[0.02178845]]), array([[0.10798654]]), array([[0.01835534]]), array([[0.10744848]]), array([[0.23891977]]), array([[0.1806082]]), array([[0.04494683]]), array([[0.11983871]]), array([[0.00330261]]), array([[0.02451407]]), array([[0.04457744]]), array([[0.0621279]]), array([[0.83340527]]), array([[0.0068022]]), array([[0.89845494]]), array([[0.46525619]]), array([[0.59430767]]), array([[0.16578639]]), array([[0.01433953]]), array([[0.70183149]]), array([[0.01794224]]), array([[0.4261324]]), array([[0.00594217]]), array([[0.02628983]]), array([[0.18421102]]), array([[0.00202906]]), array([[0.32011345]]), array([[1.08872247]]), array([[0.29640371]]), array([[0.30626408]]), array([[0.05826815]]), array([[0.17362763]]), array([[0.04123252]]), array([[0.04340963]]), array([[0.02221713]]), array([[0.00998987]]), array([[0.4593]]), array([[0.02195498]]), array([[0.00221955]]), array([[0.02434129]]), array([[0.0095325]]), array([[0.00149507]]), array([[0.00108443]]), array([[0.03115712]]), array([[0.2939715]]), array([[0.00814465]]), array([[0.09139207]]), array([[0.0144524]]), array([[0.00108827]]), array([[0.02603222]]), array([[0.04877122]]), array([[0.00229945]]), array([[0.10413421]]), array([[0.00128272]]), array([[1.16520785]]), array([[0.05518698]]), array([[0.08401491]]), array([[0.02471775]]), array([[0.70653974]]), array([[0.91559237]]), array([[0.00104654]]), array([[0.02694807]]), array([[0.07022199]]), array([[0.37442878]]), array([[0.03497673]]), array([[0.01949681]]), array([[0.00148901]]), array([[0.03994166]]), array([[0.08669379]]), array([[0.02577769]]), array([[0.06214228]]), array([[0.02559305]]), array([[0.06303272]]), array([[0.29354302]]), array([[0.49741891]]), array([[0.26135978]]), array([[0.01375407]]), array([[0.23400766]]), array([[0.87282494]]), array([[0.03041211]]), array([[0.00112469]]), array([[0.0078088]]), array([[1.07859548]]), array([[0.40936648]]), array([[0.00314259]]), array([[0.01722066]]), array([[0.00608645]]), array([[0.85585838]]), array([[0.90403745]]), array([[0.00267337]]), array([[0.04416851]]), array([[0.12534341]]), array([[0.37441115]]), array([[0.00098161]]), array([[0.13863389]]), array([[0.30166694]]), array([[0.32839271]]), array([[0.78361783]]), array([[0.03384563]]), array([[0.12678131]]), array([[0.22281769]]), array([[0.0280862]]), array([[0.01127515]]), array([[0.11551256]]), array([[0.02546173]]), array([[0.00175133]]), array([[0.00204753]]), array([[0.02040902]]), array([[0.00123712]]), array([[0.83787506]]), array([[0.00612964]]), array([[0.04825677]]), array([[0.0037156]]), array([[0.75674979]]), array([[0.44891577]]), array([[0.01815048]]), array([[0.00486421]]), array([[0.37769151]]), array([[0.01439511]]), array([[0.25740031]]), array([[0.00230274]]), array([[0.0011852]]), array([[0.37097197]]), array([[0.07534751]]), array([[0.32408927]]), array([[0.00392957]]), array([[1.34310012]]), array([[0.00381576]]), array([[0.03379609]]), array([[0.0953529]]), array([[1.06792612]]), array([[0.06057718]]), array([[0.00230232]]), array([[0.00370526]]), array([[0.01620211]]), array([[0.05974128]]), array([[0.02907171]]), array([[0.18573955]]), array([[0.3751849]]), array([[0.00931316]]), array([[0.32004394]]), array([[0.0384769]]), array([[0.0019504]]), array([[0.02227348]]), array([[0.38727913]]), array([[0.0010571]]), array([[0.10104044]]), array([[0.11622067]]), array([[0.00220072]]), array([[0.14705918]]), array([[0.65101297]]), array([[1.15470633]]), array([[0.05516349]]), array([[0.23534475]]), array([[0.00101304]]), array([[0.0956974]]), array([[0.00982431]]), array([[0.01908773]]), array([[0.00608404]]), array([[0.05234764]]), array([[0.09828899]]), array([[0.04921177]]), array([[0.055318]]), array([[0.98447012]]), array([[0.6245051]]), array([[0.83951296]]), array([[0.10891714]]), array([[0.52508514]]), array([[0.02721216]]), array([[0.08390125]]), array([[0.20566876]]), array([[0.00774208]]), array([[0.00294115]]), array([[0.01452167]]), array([[0.02077912]]), array([[0.00239213]]), array([[0.05884746]]), array([[0.03737438]]), array([[0.01216076]]), array([[0.03264922]]), array([[0.00397272]]), array([[0.00091288]]), array([[0.00153551]]), array([[0.00086089]]), array([[0.01158278]]), array([[0.02877152]]), array([[0.01493768]]), array([[0.03323373]]), array([[0.00084107]]), array([[0.01002541]]), array([[0.03681509]]), array([[0.8149551]]), array([[0.53834952]]), array([[0.20820306]]), array([[0.00473491]]), array([[0.01130304]]), array([[0.0020059]]), array([[0.48747259]]), array([[0.04765475]]), array([[0.17252763]]), array([[0.00941912]]), array([[0.00137143]]), array([[0.00571429]]), array([[0.00313402]]), array([[0.03543013]]), array([[0.00568437]]), array([[0.30541737]]), array([[0.00065961]]), array([[0.00028022]]), array([[0.14991299]]), array([[0.00167058]]), array([[0.10471327]]), array([[0.06975726]]), array([[0.00274704]]), array([[0.12477199]]), array([[0.00628039]]), array([[0.02282552]]), array([[0.06043891]]), array([[0.00079954]]), array([[0.00727884]]), array([[0.09738366]]), array([[0.0096564]]), array([[0.18596502]]), array([[0.00243015]]), array([[0.00541645]]), array([[0.0218677]]), array([[0.02817616]]), array([[0.00235027]]), array([[0.00121196]]), array([[0.15578294]]), array([[0.01094736]]), array([[0.98583796]]), array([[0.14133057]]), array([[0.04355866]]), array([[0.00720513]]), array([[0.93670093]]), array([[0.00405662]]), array([[0.05476841]]), array([[0.00959044]]), array([[0.01742956]]), array([[0.00986468]]), array([[0.09667638]]), array([[0.00751392]]), array([[0.98434738]]), array([[0.01469167]]), array([[0.03432255]]), array([[0.08305269]]), array([[0.0203815]]), array([[0.5605256]]), array([[0.00432219]]), array([[0.00359966]]), array([[0.00916852]]), array([[0.00098061]]), array([[0.58813145]]), array([[0.02181316]]), array([[0.56681785]]), array([[0.1144921]]), array([[1.40586892]]), array([[0.00458621]]), array([[0.57674203]]), array([[0.31427011]]), array([[0.00491642]]), array([[0.12917138]]), array([[0.01169463]]), array([[0.00214319]]), array([[0.00133224]]), array([[0.00071302]]), array([[0.00042486]]), array([[0.00094934]]), array([[0.00271258]]), array([[0.00342276]]), array([[0.0084431]]), array([[0.00170466]]), array([[0.00760224]]), array([[0.02654111]]), array([[0.00464833]]), array([[1.0825894]]), array([[0.00683478]]), array([[0.00787844]]), array([[0.00761529]]), array([[0.00402948]]), array([[0.00164366]]), array([[0.22434356]]), array([[0.00902962]]), array([[0.12775914]]), array([[0.00531244]]), array([[0.01342926]]), array([[0.15877046]]), array([[0.00570631]]), array([[0.00637739]]), array([[0.00105674]]), array([[0.67990219]]), array([[0.01045666]]), array([[1.08163249]]), array([[0.14697639]]), array([[0.00555902]]), array([[0.36024307]]), array([[0.09931453]]), array([[0.05541433]]), array([[0.10511605]]), array([[0.00099963]]), array([[0.02021955]]), array([[0.00874575]]), array([[0.27639775]]), array([[1.27725982]]), array([[0.00109287]]), array([[0.38707515]]), array([[0.69683444]]), array([[0.03252973]]), array([[0.00304827]]), array([[0.02293227]]), array([[0.00112718]]), array([[0.00017844]]), array([[0.00839964]]), array([[0.01446603]]), array([[0.03127772]]), array([[0.52342518]]), array([[0.00033361]]), array([[0.24916442]]), array([[0.22020138]]), array([[0.06406752]]), array([[0.00334306]]), array([[0.45918722]]), array([[0.68491665]]), array([[0.33448152]]), array([[0.54757777]]), array([[0.09123036]]), array([[0.11287042]]), array([[0.86231736]]), array([[0.02525159]]), array([[0.00341115]]), array([[0.00921384]]), array([[0.00446769]]), array([[0.00385433]]), array([[0.47447403]]), array([[0.87280486]]), array([[0.26380297]]), array([[0.18529024]]), array([[0.00548212]]), array([[0.00563344]]), array([[0.24163413]]), array([[0.12474228]]), array([[0.08287514]]), array([[0.00220188]]), array([[0.6807827]]), array([[0.00017113]]), array([[0.00541681]]), array([[0.00114131]]), array([[0.20632528]]), array([[0.01446527]]), array([[0.00249641]]), array([[0.25162566]]), array([[0.01622682]]), array([[0.21580825]]), array([[0.10125485]]), array([[0.1799329]]), array([[0.15354685]]), array([[0.04469405]]), array([[0.00403829]]), array([[0.11966685]]), array([[0.02959134]]), array([[0.03285369]]), array([[0.82625265]]), array([[0.59049825]]), array([[0.01021812]]), array([[0.00088272]]), array([[0.00140625]]), array([[0.00067708]]), array([[0.45445402]]), array([[0.01349797]]), array([[0.00295691]]), array([[0.68477633]]), array([[0.95813457]]), array([[0.09620716]]), array([[0.01485884]]), array([[0.16334523]]), array([[0.13393437]]), array([[0.06867303]]), array([[0.01949065]]), array([[0.02999332]]), array([[0.02790935]]), array([[0.0801456]]), array([[0.64733962]]), array([[0.0030339]]), array([[0.00730642]]), array([[8.53931596e-05]]), array([[0.00027645]]), array([[0.00423524]]), array([[0.00055477]]), array([[0.48772142]]), array([[0.48690601]]), array([[0.00918846]]), array([[0.62518307]]), array([[0.00459763]]), array([[0.00476123]]), array([[1.23281162]]), array([[0.04903676]]), array([[0.12361469]]), array([[0.12607152]]), array([[0.00054257]]), array([[0.00063069]]), array([[0.80585521]]), array([[0.00421927]]), array([[0.01651756]]), array([[9.50208976e-05]]), array([[0.00724058]]), array([[0.00068751]]), array([[0.53281464]]), array([[0.77193396]]), array([[0.40979898]]), array([[0.00417601]]), array([[0.47198577]]), array([[0.01118939]]), array([[0.00738249]]), array([[0.00314877]]), array([[0.11297257]]), array([[0.00683124]]), array([[0.02413743]]), array([[0.00131331]]), array([[0.0293542]]), array([[0.0483632]]), array([[0.26217896]]), array([[0.01915944]]), array([[0.00221087]]), array([[0.0108281]]), array([[0.02957763]]), array([[0.09310457]]), array([[0.98002404]]), array([[0.61551579]]), array([[0.00077038]]), array([[0.00225861]]), array([[0.06256372]]), array([[0.02470983]]), array([[0.00013536]]), array([[0.04424393]]), array([[0.00107057]]), array([[0.35613085]]), array([[0.00132428]]), array([[0.01053628]]), array([[0.00053698]]), array([[0.33379374]]), array([[1.32707868]]), array([[0.17241332]]), array([[0.00519647]]), array([[0.00105292]]), array([[0.37680489]]), array([[0.05913596]]), array([[0.15372382]]), array([[0.01432563]]), array([[0.00302988]]), array([[0.03605943]]), array([[0.49042595]]), array([[0.00949255]]), array([[0.09374238]]), array([[0.00242735]]), array([[0.46494419]]), array([[0.00191921]]), array([[0.36307771]]), array([[0.00522255]]), array([[0.01711366]]), array([[0.05043683]]), array([[1.16701784]]), array([[0.00288603]]), array([[0.00048709]]), array([[0.019842]]), array([[0.12313022]]), array([[0.01831007]]), array([[0.02571159]]), array([[0.00243241]]), array([[0.00274355]]), array([[0.13560487]]), array([[0.00650144]]), array([[0.00384527]]), array([[0.04525559]]), array([[1.03165646]]), array([[0.70619722]]), array([[0.14342812]]), array([[0.01532323]]), array([[0.17750293]]), array([[0.27279069]]), array([[0.38187461]]), array([[0.01418038]]), array([[0.29669096]]), array([[1.32476268]]), array([[0.17825005]]), array([[0.53187667]]), array([[0.19595405]]), array([[0.00072148]]), array([[0.10275232]]), array([[0.41859272]]), array([[0.00174935]]), array([[0.0017441]]), array([[0.00187133]]), array([[0.2010221]]), array([[0.00032537]]), array([[0.13614588]]), array([[1.84577995]]), array([[0.57473201]]), array([[0.00326254]]), array([[0.96006857]]), array([[0.09608999]]), array([[0.00198082]]), array([[0.00306481]]), array([[0.00396295]]), array([[0.60548535]]), array([[0.0035278]]), array([[0.06211846]]), array([[0.08929281]]), array([[0.008149]]), array([[0.00460102]]), array([[0.00355726]]), array([[1.02197541]]), array([[0.12891911]]), array([[0.06106375]]), array([[0.03668674]]), array([[0.3810708]]), array([[0.01251219]]), array([[0.00235445]]), array([[0.45386068]]), array([[0.04706432]]), array([[0.08717797]]), array([[0.90690164]]), array([[0.03260182]]), array([[0.03584745]]), array([[0.85500458]]), array([[0.04678621]]), array([[0.0005464]]), array([[0.00113559]]), array([[0.03804158]]), array([[0.00800036]]), array([[0.48132596]]), array([[0.62891962]]), array([[0.00395181]]), array([[0.11951825]]), array([[0.04337817]]), array([[0.78461375]]), array([[0.01121798]]), array([[0.00349054]]), array([[0.00304286]]), array([[0.00260341]]), array([[0.02890793]]), array([[0.91373401]]), array([[0.00032779]]), array([[0.00081689]]), array([[0.00010768]]), array([[0.02299815]]), array([[0.23330027]]), array([[0.00148067]]), array([[0.2210702]]), array([[0.1760937]]), array([[0.00199847]]), array([[0.08896558]]), array([[0.26986238]]), array([[0.00102423]]), array([[0.00059048]]), array([[0.00202815]]), array([[0.05946727]]), array([[0.01027786]]), array([[0.00197484]]), array([[0.00394359]]), array([[0.26461239]]), array([[0.31155425]]), array([[0.18624561]]), array([[0.04091597]]), array([[0.01031265]]), array([[6.50773044e-05]]), array([[0.00014372]]), array([[0.00116348]]), array([[0.04907989]]), array([[0.99008276]]), array([[0.00408095]]), array([[0.64379135]]), array([[0.7472735]]), array([[0.00953141]]), array([[0.00050157]]), array([[0.01329438]]), array([[0.00069301]]), array([[0.01572129]]), array([[0.00084081]]), array([[1.39905925]]), array([[0.01583393]]), array([[1.5562017]]), array([[0.07268237]]), array([[0.00539633]]), array([[0.00150368]]), array([[0.01027101]]), array([[0.00172499]]), array([[0.00297284]]), array([[0.00445019]]), array([[0.01934013]]), array([[0.23144901]]), array([[0.02173856]]), array([[0.04941009]]), array([[0.01318116]]), array([[0.58091449]]), array([[0.00295043]]), array([[0.01206338]]), array([[0.00431624]]), array([[0.02193205]]), array([[0.00767125]]), array([[0.00260064]]), array([[0.00044887]]), array([[0.40798461]]), array([[0.02608248]]), array([[0.95904893]]), array([[0.03753246]]), array([[0.40663582]]), array([[0.02824017]]), array([[0.01593335]]), array([[0.02765259]]), array([[0.86246814]]), array([[0.00077283]]), array([[0.00019306]]), array([[0.01274734]]), array([[0.01610145]]), array([[0.00101652]]), array([[0.02554369]]), array([[0.07016249]]), array([[0.000106]]), array([[0.00670233]]), array([[0.01715973]]), array([[0.0543881]]), array([[0.01047889]]), array([[0.203668]]), array([[0.00083844]]), array([[0.00027011]]), array([[0.05210941]]), array([[0.00051788]]), array([[0.49294903]]), array([[0.00155783]]), array([[0.41554118]]), array([[0.00010655]]), array([[0.65388971]]), array([[1.27955614]]), array([[0.39907271]]), array([[0.05870003]]), array([[0.08976297]]), array([[0.008047]]), array([[0.00023885]]), array([[0.01015186]]), array([[0.82822855]]), array([[0.04662682]]), array([[0.0019557]]), array([[0.02339235]]), array([[0.0571294]]), array([[0.00042965]]), array([[0.00873355]]), array([[2.8881757e-05]]), array([[0.00274863]]), array([[0.00029475]]), array([[0.3229569]]), array([[0.01012955]]), array([[0.00014494]]), array([[0.00144378]]), array([[0.00023716]]), array([[0.03920884]]), array([[0.00053943]]), array([[0.0013404]]), array([[0.00012809]]), array([[0.21156504]]), array([[0.00023407]]), array([[0.00396802]]), array([[0.00721]]), array([[0.31637393]]), array([[0.1414356]]), array([[0.00190663]]), array([[0.00032372]]), array([[0.56855312]]), array([[0.00190303]]), array([[0.00110185]]), array([[0.0017146]]), array([[0.00027412]]), array([[0.00084374]]), array([[0.04648786]]), array([[0.01630671]]), array([[0.28745939]]), array([[0.00739099]]), array([[0.32235559]]), array([[0.11220087]]), array([[0.00281588]]), array([[0.04010484]]), array([[0.02937885]]), array([[0.00073564]]), array([[0.04111289]]), array([[0.03118537]]), array([[0.0042798]]), array([[0.05585499]]), array([[0.02207411]]), array([[0.00808165]]), array([[0.00046712]]), array([[0.00225032]]), array([[0.03878294]]), array([[0.46699318]]), array([[0.01281266]]), array([[0.075671]]), array([[0.00072235]]), array([[3.56083983e-05]]), array([[0.00955872]]), array([[0.01280722]]), array([[0.00030557]]), array([[0.0083245]]), array([[0.00558482]]), array([[0.06291449]]), array([[0.1091142]]), array([[0.00471178]]), array([[0.0010041]]), array([[0.00173589]]), array([[1.05386779]]), array([[5.97546092e-05]]), array([[0.46236259]]), array([[0.75182208]]), array([[0.00232628]]), array([[0.0064285]]), array([[0.21957476]]), array([[0.01624417]]), array([[1.44237479]]), array([[0.01988215]]), array([[0.00770543]]), array([[0.06978203]]), array([[0.00077529]]), array([[0.00252536]]), array([[0.01360591]]), array([[0.25743686]]), array([[0.05126658]]), array([[0.07862935]]), array([[0.02879827]]), array([[0.00045102]]), array([[0.18790038]]), array([[0.26226576]]), array([[0.00046155]]), array([[0.00323794]]), array([[0.00192731]]), array([[0.04720781]]), array([[0.0022784]]), array([[0.15956698]]), array([[0.01262887]]), array([[0.00423979]]), array([[0.00134066]]), array([[0.00121326]]), array([[0.0015342]]), array([[0.04297251]]), array([[0.00452955]]), array([[0.01848454]]), array([[0.00054482]]), array([[0.01325285]]), array([[0.05099451]]), array([[0.0006968]]), array([[0.60819473]]), array([[0.04662758]]), array([[0.00017709]]), array([[0.1083898]]), array([[0.0030717]]), array([[0.00101773]]), array([[0.00023353]]), array([[0.31394878]]), array([[0.05456032]]), array([[0.09006635]]), array([[0.00595252]]), array([[0.32187685]]), array([[0.56662287]]), array([[9.03838233e-05]]), array([[0.17193594]]), array([[0.00150216]]), array([[0.01780793]]), array([[0.78415259]]), array([[0.41003423]]), array([[0.01014853]]), array([[0.00263182]]), array([[0.00029009]]), array([[0.00479781]]), array([[0.00220979]]), array([[1.16457049]]), array([[0.00120898]]), array([[0.01759456]]), array([[0.00089667]]), array([[0.0587001]]), array([[0.00143023]]), array([[0.00116268]]), array([[1.27397599]]), array([[0.10135703]]), array([[0.01355116]]), array([[0.00376682]]), array([[0.4788798]]), array([[0.03530847]]), array([[0.00062028]]), array([[1.30900171]]), array([[0.00928705]]), array([[0.00255682]]), array([[0.00139996]]), array([[0.36021437]]), array([[0.0355706]]), array([[0.08895138]]), array([[0.00245328]]), array([[0.1924645]]), array([[0.00067742]]), array([[0.00060574]]), array([[0.00362007]]), array([[0.00093653]]), array([[0.00659946]]), array([[0.00271051]]), array([[0.33692416]]), array([[0.0029843]]), array([[0.0076]]), array([[0.00041077]]), array([[1.03459121]]), array([[0.31666624]]), array([[0.00332006]]), array([[0.00226397]]), array([[0.00222445]]), array([[0.8672841]]), array([[0.06039581]]), array([[0.42853822]]), array([[0.05155199]]), array([[0.01443111]]), array([[0.1456005]]), array([[0.11543739]]), array([[0.00815734]]), array([[0.1154131]]), array([[0.00496937]]), array([[0.03356551]]), array([[0.29286769]]), array([[0.02614992]]), array([[0.03132445]]), array([[0.00033159]]), array([[0.01983546]]), array([[0.00276857]]), array([[0.50508709]]), array([[0.0003221]]), array([[0.00134078]]), array([[0.00185909]]), array([[0.03677037]]), array([[0.00864027]]), array([[0.0006007]]), array([[0.00111219]]), array([[0.00087131]]), array([[0.00019518]]), array([[0.00057332]]), array([[0.00085139]]), array([[0.06561686]]), array([[0.00351569]]), array([[0.00040006]]), array([[0.000861]]), array([[0.07225011]]), array([[0.00257731]]), array([[0.00787756]]), array([[0.00030839]]), array([[0.07693436]]), array([[0.01051881]]), array([[0.0129396]]), array([[0.00060022]]), array([[0.00232722]]), array([[0.00067471]]), array([[0.83219995]]), array([[0.02685948]]), array([[0.05553879]]), array([[0.28417405]]), array([[1.03240564]]), array([[0.0001582]]), array([[0.00228108]]), array([[0.37355908]]), array([[0.00415058]]), array([[0.01256479]]), array([[0.00091442]]), array([[0.00065833]]), array([[0.00405468]]), array([[0.00181221]]), array([[0.00584153]]), array([[0.0003289]]), array([[0.00125519]]), array([[0.00075563]]), array([[6.84014429e-05]]), array([[0.00111424]]), array([[8.11568022e-05]]), array([[0.00062085]]), array([[0.01233927]]), array([[0.00010797]]), array([[0.0001643]]), array([[0.0067502]]), array([[0.00041478]]), array([[5.19111813e-05]]), array([[0.00013624]]), array([[6.32496755e-05]]), array([[0.04082453]]), array([[0.00376752]]), array([[0.58326088]]), array([[0.0479196]]), array([[0.00711096]]), array([[0.57607363]]), array([[0.00234689]]), array([[0.00651768]]), array([[0.52308465]]), array([[0.45769197]]), array([[0.00265847]]), array([[0.54854226]]), array([[0.01703046]]), array([[0.0012199]]), array([[0.00449205]]), array([[0.00358731]]), array([[0.00045246]]), array([[0.00051313]]), array([[0.0048071]]), array([[0.03370032]]), array([[0.01761807]]), array([[0.0106696]]), array([[0.01844706]]), array([[9.84981529e-05]]), array([[0.94684401]]), array([[1.02115536]]), array([[0.00451639]]), array([[0.00304898]]), array([[0.00183552]]), array([[0.00561359]]), array([[0.04723974]]), array([[0.00046725]]), array([[0.00047123]]), array([[0.00067028]]), array([[0.16339107]]), array([[0.49814678]]), array([[0.005174]]), array([[0.01473626]]), array([[0.00065513]]), array([[0.0043452]]), array([[0.01520618]]), array([[0.00092912]]), array([[0.00171099]]), array([[0.00024676]]), array([[0.06427079]]), array([[0.04200305]]), array([[0.0523554]]), array([[0.35229614]]), array([[0.05019532]]), array([[0.00819206]]), array([[0.00675547]]), array([[0.0043833]]), array([[1.06011533]]), array([[0.13052705]]), array([[0.23744374]]), array([[0.00016517]]), array([[0.3819738]]), array([[0.01499106]]), array([[0.00012309]]), array([[1.2863761]]), array([[0.93226127]]), array([[0.72511059]]), array([[0.02004782]]), array([[0.17074585]]), array([[0.00048994]]), array([[0.00024819]]), array([[0.0006747]]), array([[0.04596443]]), array([[0.34409674]]), array([[9.40747324e-05]]), array([[0.05524411]]), array([[0.02089863]]), array([[0.00926047]]), array([[0.00042489]]), array([[0.15659427]]), array([[0.00514509]]), array([[0.10167599]]), array([[0.00143142]]), array([[0.00067633]]), array([[0.01809992]]), array([[0.00993726]]), array([[0.00019628]]), array([[0.00718828]]), array([[9.96356156e-05]]), array([[0.00016372]]), array([[0.00059721]]), array([[0.17621579]]), array([[0.00245147]]), array([[0.00039028]]), array([[0.07533225]]), array([[0.00171445]]), array([[0.02908272]]), array([[0.0001977]]), array([[0.14136389]]), array([[0.00010717]]), array([[0.00017542]]), array([[0.00253712]]), array([[0.01542503]]), array([[0.00786678]]), array([[0.00171317]]), array([[0.00045325]]), array([[0.01148848]]), array([[0.00317435]]), array([[0.14898459]]), array([[0.39178949]]), array([[0.00028723]]), array([[0.00095551]]), array([[0.00392319]]), array([[0.04924391]]), array([[0.00084144]]), array([[0.00333369]]), array([[7.25927929e-05]]), array([[0.00469104]]), array([[0.40053867]]), array([[0.03940366]]), array([[0.43392247]]), array([[0.00032112]]), array([[0.0143131]]), array([[0.0013061]]), array([[0.04693913]]), array([[7.32210309e-05]]), array([[0.99111428]]), array([[0.85566146]]), array([[0.46633273]]), array([[1.22137091]]), array([[0.01552088]]), array([[0.01148207]]), array([[0.03660912]]), array([[0.00221378]]), array([[0.12862311]]), array([[0.00032897]]), array([[9.76429587e-05]]), array([[0.15304549]]), array([[0.00286101]]), array([[0.07187843]]), array([[0.05203168]]), array([[0.00079629]]), array([[0.013432]]), array([[0.02889346]]), array([[1.54925237]]), array([[0.00071934]]), array([[0.00683868]]), array([[0.93458779]]), array([[0.24133625]]), array([[0.00123042]]), array([[0.09356352]]), array([[0.30519855]]), array([[0.00030298]]), array([[0.00105683]]), array([[0.01345569]]), array([[0.01356864]]), array([[0.00800331]]), array([[1.03016667]]), array([[0.12397914]]), array([[0.1055494]]), array([[0.84041069]]), array([[0.47311049]]), array([[0.01522671]]), array([[0.00147301]]), array([[0.00020517]]), array([[0.11422467]]), array([[0.08792869]]), array([[0.00700961]]), array([[0.02816097]]), array([[0.01747342]]), array([[0.00043167]]), array([[0.00047623]]), array([[0.00722793]]), array([[0.26713561]]), array([[0.01670911]]), array([[0.21563214]]), array([[0.50756615]]), array([[0.18305522]]), array([[0.14346725]]), array([[0.00755228]]), array([[0.00550469]]), array([[0.18206267]]), array([[0.00136772]]), array([[0.00156324]]), array([[0.00380459]]), array([[0.54482743]]), array([[0.18252105]]), array([[0.00213443]]), array([[0.05096289]]), array([[0.0104808]]), array([[3.42009713e-05]]), array([[0.29724377]]), array([[0.0521991]]), array([[0.05815788]]), array([[0.02350829]]), array([[1.0841203]]), array([[0.29541003]]), array([[0.00024042]]), array([[0.01521791]]), array([[0.50208723]]), array([[0.00051473]]), array([[0.01499823]]), array([[0.00358507]]), array([[0.04905385]]), array([[0.00016655]]), array([[0.70382848]]), array([[0.00067194]]), array([[0.11796018]]), array([[0.07210101]]), array([[0.00124783]]), array([[0.00671961]]), array([[0.06195201]]), array([[0.0011103]]), array([[0.00062968]]), array([[0.00447406]]), array([[0.00062443]]), array([[0.03932809]]), array([[0.02600034]]), array([[0.06252899]]), array([[0.00073525]]), array([[0.26266447]]), array([[0.01049896]]), array([[0.03191204]]), array([[1.02422041]]), array([[0.00332895]]), array([[5.90980453e-05]]), array([[0.00099888]]), array([[0.08300585]]), array([[0.01669672]]), array([[7.32166316e-05]]), array([[0.19168116]]), array([[0.1041073]]), array([[0.62128095]]), array([[0.08289737]]), array([[0.00268929]]), array([[0.57443]]), array([[0.11610008]]), array([[0.62403566]]), array([[0.11688634]]), array([[0.00081466]]), array([[0.00727242]]), array([[0.07289708]]), array([[0.00044289]]), array([[0.00014408]]), array([[0.56088977]]), array([[0.37533209]]), array([[1.76072612]]), array([[0.00302204]]), array([[0.00030097]]), array([[0.03684132]]), array([[0.00053998]]), array([[1.14237612]]), array([[0.16613713]]), array([[0.00031713]]), array([[0.29964655]]), array([[0.00381907]]), array([[1.1782691]]), array([[0.062677]]), array([[0.00031434]]), array([[0.00299806]]), array([[0.00056901]]), array([[0.00349984]]), array([[0.00344941]]), array([[0.02349038]]), array([[0.08355218]]), array([[0.00459578]]), array([[0.09117877]]), array([[8.375127e-05]]), array([[0.0127962]]), array([[0.0044683]]), array([[0.0003685]]), array([[0.00143905]]), array([[0.00921361]]), array([[0.02740286]]), array([[0.00259196]]), array([[0.12295084]]), array([[0.01176018]]), array([[0.00352163]]), array([[0.0005132]]), array([[0.64308475]]), array([[2.14302799e-05]]), array([[0.02477918]]), array([[0.00067552]]), array([[0.46167843]]), array([[0.01687661]]), array([[0.10939755]]), array([[0.00583172]]), array([[0.02077181]]), array([[0.01066221]]), array([[0.00137615]]), array([[0.00016988]]), array([[0.04220192]]), array([[0.0209674]]), array([[0.00071068]]), array([[9.10917569e-05]]), array([[0.00040219]]), array([[0.00043937]]), array([[0.00905518]]), array([[0.00166622]]), array([[0.04130055]]), array([[0.00216114]]), array([[8.74373612e-05]]), array([[0.3111506]]), array([[0.00341403]]), array([[0.07517264]]), array([[0.01719962]]), array([[0.0002298]]), array([[0.86713995]]), array([[0.31079315]]), array([[0.00011148]]), array([[0.06287715]]), array([[0.00018943]]), array([[0.01359779]]), array([[0.06403029]]), array([[0.00020079]]), array([[0.00421382]]), array([[0.00013186]]), array([[0.00732973]]), array([[0.01237628]]), array([[0.00152125]]), array([[0.00837403]]), array([[0.0002869]]), array([[0.19204759]]), array([[0.54561501]]), array([[0.04939728]]), array([[0.00122294]]), array([[0.11569812]]), array([[0.00012854]]), array([[1.22275233]]), array([[0.07451244]]), array([[0.107702]]), array([[0.10221305]]), array([[0.00245184]]), array([[0.12776426]]), array([[0.11681397]]), array([[0.0098371]]), array([[0.15622496]]), array([[0.0114654]]), array([[0.52044221]]), array([[0.01452769]]), array([[0.0194362]]), array([[0.00043401]]), array([[0.00712677]]), array([[0.00127917]]), array([[0.00131841]]), array([[5.27565105e-05]]), array([[0.44593076]]), array([[0.00784959]]), array([[0.0021271]]), array([[0.00180942]]), array([[0.64076075]]), array([[0.01341459]]), array([[0.00071208]]), array([[0.021966]]), array([[0.74936594]]), array([[0.06978251]]), array([[0.00441949]]), array([[0.00417789]]), array([[0.01617032]]), array([[0.01328526]]), array([[0.00421854]]), array([[0.00365071]]), array([[0.01385815]]), array([[0.0078651]]), array([[0.93626716]]), array([[0.00023831]]), array([[0.00956062]]), array([[0.5809675]]), array([[0.43134558]]), array([[0.0097089]]), array([[0.42871679]]), array([[0.02060106]]), array([[0.75692012]]), array([[0.03417888]]), array([[0.05268314]]), array([[0.10136502]]), array([[0.00613291]]), array([[0.00222516]]), array([[0.00048738]]), array([[0.00010631]]), array([[0.76443212]]), array([[0.2226878]]), array([[0.03492637]]), array([[0.00062642]]), array([[0.00653]]), array([[0.01671114]]), array([[0.05335265]]), array([[1.1691349]]), array([[0.00162769]]), array([[0.00181604]]), array([[0.38444733]]), array([[0.02586972]]), array([[0.05334946]]), array([[0.00620731]]), array([[0.01683353]]), array([[0.00211752]]), array([[0.16934663]]), array([[0.0100436]]), array([[0.00335713]]), array([[0.61885199]]), array([[0.00624288]]), array([[0.00298273]]), array([[0.00021947]]), array([[0.02384299]]), array([[7.07178703e-05]]), array([[0.00019762]]), array([[0.027425]]), array([[0.73806198]]), array([[0.00487499]]), array([[0.00123465]]), array([[0.03952623]]), array([[1.17277137]]), array([[0.00105408]]), array([[0.01852087]]), array([[0.01620738]]), array([[0.0235576]]), array([[0.00054308]]), array([[0.00068328]]), array([[0.30585524]]), array([[0.00357233]]), array([[0.01051002]]), array([[1.39193759]]), array([[0.03162592]]), array([[0.00303414]]), array([[0.01341845]]), array([[0.00025929]]), array([[0.01723074]]), array([[0.05936025]]), array([[0.00012968]]), array([[0.29384729]]), array([[0.00020094]]), array([[0.00013976]]), array([[0.20682963]]), array([[0.00209653]]), array([[0.00070282]]), array([[0.07293229]]), array([[0.75122262]]), array([[0.00013791]]), array([[0.01796295]]), array([[0.37729234]]), array([[4.92964263e-05]]), array([[0.00027979]]), array([[0.47257455]]), array([[0.013934]]), array([[0.00639498]]), array([[0.00163922]]), array([[0.00429189]]), array([[0.06229979]]), array([[0.05951443]]), array([[0.0002081]]), array([[0.00089358]]), array([[0.00045043]]), array([[0.00056593]]), array([[0.19573047]]), array([[0.04508145]]), array([[0.38045751]]), array([[0.16301469]]), array([[0.81990399]]), array([[0.42368366]]), array([[0.0141997]]), array([[0.00765898]]), array([[0.00068208]]), array([[0.28391345]]), array([[0.00422056]]), array([[0.69181184]]), array([[0.00102517]]), array([[0.02169314]]), array([[0.00126751]]), array([[0.00114918]]), array([[1.09424977]]), array([[0.30770576]]), array([[0.02066729]]), array([[0.00522871]]), array([[0.22199672]]), array([[0.01221653]]), array([[0.00667553]]), array([[0.00424495]]), array([[0.00478689]]), array([[0.05861484]]), array([[0.67749198]]), array([[0.01480229]]), array([[0.01363418]]), array([[0.03537633]]), array([[0.00142928]]), array([[0.45002203]]), array([[6.78776903e-05]]), array([[0.02274852]]), array([[2.80891057e-05]]), array([[0.00079345]]), array([[0.00133132]]), array([[0.0059053]]), array([[0.00725186]]), array([[3.12072505e-05]]), array([[0.36335814]]), array([[0.10661939]]), array([[0.0013612]]), array([[5.97781909e-05]]), array([[0.0004347]]), array([[0.08725456]]), array([[0.02703509]]), array([[0.00124742]]), array([[0.00420936]]), array([[0.12925382]]), array([[0.06935493]])]\n"
     ]
    }
   ],
   "source": [
    "print(bp_neru.losses)"
   ]
  },
  {
   "cell_type": "code",
   "execution_count": 16,
   "metadata": {},
   "outputs": [
    {
     "name": "stdout",
     "output_type": "stream",
     "text": [
      "3000\n"
     ]
    }
   ],
   "source": [
    "losses = np.array(bp_neru.losses)\n",
    "print(len(losses))"
   ]
  },
  {
   "cell_type": "code",
   "execution_count": 17,
   "metadata": {},
   "outputs": [],
   "source": [
    "losses = losses.reshape(3000,1)"
   ]
  },
  {
   "cell_type": "code",
   "execution_count": 71,
   "metadata": {},
   "outputs": [
    {
     "data": {
      "image/png": "[encoded data removed]",
      "text/plain": [
       "<Figure size 432x288 with 1 Axes>"
      ]
     },
     "metadata": {},
     "output_type": "display_data"
    }
   ],
   "source": [
    "import matplotlib.pyplot as plt\n",
    "plt.plot(np.arange(len(losses)),losses)\n",
    "plt.xlabel('epoches')\n",
    "plt.ylabel('loss')\n",
    "plt.show()"
   ]
  },
  {
   "cell_type": "code",
   "execution_count": null,
   "metadata": {},
   "outputs": [],
   "source": []
  }
 ],
 "metadata": {
  "kernelspec": {
   "display_name": "Python 3",
   "language": "python",
   "name": "python3"
  },
  "language_info": {
   "codemirror_mode": {
    "name": "ipython",
    "version": 3
   },
   "file_extension": ".py",
   "mimetype": "text/x-python",
   "name": "python",
   "nbconvert_exporter": "python",
   "pygments_lexer": "ipython3",
   "version": "3.6.5"
  },
  "toc": {
   "base_numbering": 1,
   "nav_menu": {},
   "number_sections": true,
   "sideBar": true,
   "skip_h1_title": false,
   "title_cell": "Table of Contents",
   "title_sidebar": "Contents",
   "toc_cell": false,
   "toc_position": {},
   "toc_section_display": true,
   "toc_window_display": false
  }
 },
 "nbformat": 4,
 "nbformat_minor": 2
}
