{
 "cells": [
  {
   "cell_type": "code",
   "execution_count": 4,
   "metadata": {},
   "outputs": [],
   "source": [
    "import numpy as np\n",
    "import math\n",
    "def sampleImages(images,patch,numbatch,imageNum):\n",
    "    samples=np.zeros([patch*patch,1,imageNum*numbatch])\n",
    "    for i in range(imageNum):\n",
    "        rows=images[:,:,i].shape[0];cols=images[:,:,i].shape[1];\n",
    "        for j in range(numbatch):\n",
    "            row=np.random.randint(0,rows);\n",
    "            col=np.random.randint(0,cols);\n",
    "            samples[:,:,i*numbatch+j]=images[row:row+patch,col:col+patch,i].reshape(patch*patch,1)\n",
    "    return samples\n",
    "def normalize(samples):\n",
    "    mean=np.mean(samples);\n",
    "    samples=samples-mean;\n",
    "    return samples\n",
    "def initializeParameters(hiddenSize, visibleSize):\n",
    "    r  = math.sqrt(6)\n",
    "    w1=-r+2*r*np.random.rand(hiddenSize,visibleSize)\n",
    "    w2=-r+2*r*np.random.rand(visibleSize,hiddenSize)\n",
    "    b1=np.zeros([hiddenSize,1])\n",
    "    b2=np.zeros([visibleSize,1])\n",
    "    return [w1,w2,b1,b2]\n",
    "def sparseAutoencoderCost(theta,visibleSize, hiddenSize,lambda1, sparsityParam, beta, data):\n",
    "    w1=theta[0];w2=theta[1];b1=theta[2];b2=theta[3];\n",
    "    w1gd=np.zeros(w1.shape)\n",
    "    w2gd=np.zeros(w2.shape)\n",
    "    b1gd=np.zeros(b1.shape)\n",
    "    b2gd=np.zeros(b2.shape)\n",
    "    #feedforward\n",
    "    Jcost = 0;#直接误差\n",
    "    Jweight = 0;#权值惩罚\n",
    "    Jsparse = 0;#稀疏性惩罚\n",
    "    (n,m)=data.shape\n",
    "    b1=get_batch_bias(b1,m);b2=get_batch_bias(b2,m);\n",
    "    z2=np.dot(w1,data)+b1;a2=sigmoid(z2);\n",
    "    z3=np.dot(w2,a2)+b2;a3=sigmoid(z3);\n",
    "    Jcost=0.5*np.sum(a3-data)/m\n",
    "    Jweight=0.5*(np.sum(w1*w1)+np.sum(w2*w2))\n",
    "    ap=np.mean(a2,axis=0)\n",
    "    Jsparse=np.sum(sparsityParam*np.log(sparsityParam/ap)+(1-sparsityParam)*np.log((1-sparsityParam)/(1-ap)))\n",
    "    cost=Jcost+Jweight*lambda1+Jsparse*beta\n",
    "    #反向计算每个节点的误差值\n",
    "    d3=-(a3-data)*sig_bg(z3)\n",
    "    sparsegd=beta*(-sparsityParam/ap+(1-sparsityParam)/(1-ap))\n",
    "    d2=(np.dot(w2.T,d3)+aparsegd)*sig_bg(z2)\n",
    "    w2gd=np.dot(d3,a2.T)/m+lamda1*w2;\n",
    "    w1gd=np.dot(d2,data.T)/m+lamda*w1;\n",
    "    b2gd=np.mean(d3,axis=1)\n",
    "    b1gd=np.mean(d2,axis=1)\n",
    "    return [cost,w1gd,w2gd,b1gd,b2d]\n",
    "def display_network(A, opt_normalize, opt_graycolor, cols, opt_colmajor):\n",
    "    #This function visualizes filters in matrix A. Each column of A is a\n",
    "    #filter. We will reshape each column into a square image and visualizes\n",
    "# on each cell of the visualization panel. \n",
    "# All other parameters are optional, usually you do not need to worry\n",
    "# about it.\n",
    "# opt_normalize: whether we need to normalize the filter so that all of\n",
    "#  them can have similar contrast. Default value is true.\n",
    "#  opt_graycolor: whether we use gray as the heat map. Default is true.\n",
    "#  cols: how many columns are there in the display. Default value is the\n",
    "#  squareroot of the number of columns in A.\n",
    "#  opt_colmajor: you can switch convention to row major for A. In that\n",
    "#  case, each row of A is a filter. Default value is false.\n",
    "    \n",
    "def get_batch_bias(bias,m):\n",
    "    n=bias.shape[0]\n",
    "    res_bias=np.zeros([n,m])\n",
    "    for i in range(m):\n",
    "        res_bias[:,i]=bias.reshape(n,)\n",
    "    return res_bias\n",
    "def sigmoid(z):\n",
    "    return 1/(1+np.exp(-z))\n",
    "def sig_bg(z):\n",
    "    return sigmoid(z)*(1-sigmoid(z))"
   ]
  },
  {
   "cell_type": "code",
   "execution_count": 13,
   "metadata": {},
   "outputs": [
    {
     "data": {
      "text/plain": [
       "array([[-3.86049303, -1.49458452, -1.1567575 , -5.68208473],\n",
       "       [ 2.46208057,  3.28688327, -0.33799334, -3.53253527],\n",
       "       [-3.90864514,  5.39617369, -1.19522164,  1.61537702]])"
      ]
     },
     "execution_count": 13,
     "metadata": {},
     "output_type": "execute_result"
    }
   ],
   "source": [
    "a=(-6+12*np.random.rand(3,4))\n",
    "a"
   ]
  },
  {
   "cell_type": "code",
   "execution_count": 14,
   "metadata": {},
   "outputs": [
    {
     "data": {
      "text/plain": [
       "array([-1.7690192 ,  2.39615748, -0.89665749, -2.53308099])"
      ]
     },
     "execution_count": 14,
     "metadata": {},
     "output_type": "execute_result"
    }
   ],
   "source": [
    "np.mean(a,axis=0)"
   ]
  },
  {
   "cell_type": "code",
   "execution_count": 23,
   "metadata": {},
   "outputs": [
    {
     "name": "stderr",
     "output_type": "stream",
     "text": [
      "C:\\ProgramData\\Anaconda3\\lib\\site-packages\\ipykernel_launcher.py:1: RuntimeWarning: invalid value encountered in log\n",
      "  \"\"\"Entry point for launching an IPython kernel.\n"
     ]
    },
    {
     "data": {
      "text/plain": [
       "array([[        nan,         nan,         nan,         nan],\n",
       "       [ 0.19760554, -0.09132749,         nan,         nan],\n",
       "       [        nan, -0.58707784,         nan,  0.61904391]])"
      ]
     },
     "execution_count": 23,
     "metadata": {},
     "output_type": "execute_result"
    }
   ],
   "source": [
    "np.log(3/a)"
   ]
  },
  {
   "cell_type": "code",
   "execution_count": null,
   "metadata": {},
   "outputs": [],
   "source": []
  },
  {
   "cell_type": "code",
   "execution_count": null,
   "metadata": {},
   "outputs": [],
   "source": []
  }
 ],
 "metadata": {
  "kernelspec": {
   "display_name": "Python 3",
   "language": "python",
   "name": "python3"
  },
  "language_info": {
   "codemirror_mode": {
    "name": "ipython",
    "version": 3
   },
   "file_extension": ".py",
   "mimetype": "text/x-python",
   "name": "python",
   "nbconvert_exporter": "python",
   "pygments_lexer": "ipython3",
   "version": "3.6.5"
  },
  "toc": {
   "base_numbering": 1,
   "nav_menu": {},
   "number_sections": true,
   "sideBar": true,
   "skip_h1_title": false,
   "title_cell": "Table of Contents",
   "title_sidebar": "Contents",
   "toc_cell": false,
   "toc_position": {},
   "toc_section_display": true,
   "toc_window_display": false
  }
 },
 "nbformat": 4,
 "nbformat_minor": 2
}
