{
 "cells": [
  {
   "cell_type": "code",
   "execution_count": 18,
   "metadata": {},
   "outputs": [],
   "source": [
    "#function [f,g] = linear_regression(theta, X,y)\n",
    "#functions=linear_regression(theta, X,y)#functions[0]=f,functions[1]=g\n",
    "#   %\n",
    "#   % Arguments:\n",
    "#   %   theta - A vector containing the parameter values to optimize.\n",
    "#   %   X - The examples stored in a matrix.\n",
    "#   %       X(i,j) is the i'th coordinate of the j'th example.\n",
    "#   %   y - The target value for each example.  y(j) is the target for example j.\n",
    "#   %\n",
    "def linear_regression(theta, X,y):\n",
    "    m=X.shape[1];\n",
    "    n=X.shape[0];\n",
    "\n",
    "    f=0;\n",
    "    g=np.zeros(theta.shape[0]);\n",
    "    for i in range(0,m):\n",
    "        temp=0\n",
    "        for j in range(0,n):\n",
    "            temp+=theta[j]*X[j,i]\n",
    "        f+=0.5*(temp-y[i])**2\n",
    "    for j in range(0,n): \n",
    "        for i in range(0,m):\n",
    "            temp=0\n",
    "            for k in range(0,n):\n",
    "                temp+=theta[k]*X[k,i]\n",
    "            g[j]+=(temp-y[i])*X[j,i]\n",
    "    return [f,g]\n",
    "#   %\n",
    "#   % TODO:  Compute the linear regression objective by looping over the examples in X.\n",
    "#   %        Store the objective function value in 'f'.\n",
    "#   %\n",
    "#   % TODO:  Compute the gradient of the objective with respect to theta by looping over\n",
    "#   %        the examples in X and adding up the gradient for each example.  Store the\n",
    "#   %        computed gradient in 'g'.\n",
    "  \n",
    "# %%% YOUR CODE HERE %%%\n",
    "    "
   ]
  },
  {
   "cell_type": "markdown",
   "metadata": {},
   "source": [
    "## linear_reg_vec"
   ]
  },
  {
   "cell_type": "code",
   "execution_count": null,
   "metadata": {},
   "outputs": [],
   "source": [
    "function [f,g] = linear_regression_vec(theta, X,y)\n",
    "#   %\n",
    "#   % Arguments:\n",
    "#   %   theta - A vector containing the parameter values to optimize.\n",
    "#   %   X - The examples stored in a matrix.\n",
    "#   %       X(i,j) is the i'th coordinate of the j'th example.\n",
    "#   %   y - The target value for each example.  y(j) is the target for example j.\n",
    "#   %\n",
    "def linear_regression(theta, X,y):\n",
    "    m=X.shape[1];\n",
    "    n=X.shape[0];\n",
    "    import numpy as np\n",
    "    f=0;\n",
    "    g=np.zeros(theta.shape[0]);\n",
    "    cal_1=np.dot(theta,X)\n",
    "    for i in range(0,m):\n",
    "        f+=(theta[i]-y[i])**2\n",
    "    f=f/2\n",
    "    for j in range(0,n):\n",
    "        g[j]=(cal_1-y)*X[j,:]\n",
    "    return [f,g]"
   ]
  },
  {
   "cell_type": "code",
   "execution_count": 51,
   "metadata": {
    "scrolled": true
   },
   "outputs": [
    {
     "name": "stdout",
     "output_type": "stream",
     "text": [
      "0.638830660214\n",
      "[[ 0.48212484]\n",
      " [ 0.92605135]\n",
      " [ 0.56307703]\n",
      " [ 0.79008485]\n",
      " [ 0.45603593]\n",
      " [ 0.56143615]\n",
      " [ 0.42263137]\n",
      " [ 0.6478447 ]\n",
      " [ 0.94607792]\n",
      " [ 0.59294246]]\n",
      "[[ 0.23244436]\n",
      " [ 0.85757111]\n",
      " [ 0.31705574]\n",
      " [ 0.62423407]\n",
      " [ 0.20796877]\n",
      " [ 0.31521055]\n",
      " [ 0.17861727]\n",
      " [ 0.41970275]\n",
      " [ 0.89506343]\n",
      " [ 0.35158076]]\n"
     ]
    }
   ],
   "source": [
    "A=np.random.rand(10,1)\n",
    "print(np.mean(A))\n",
    "print(A)\n",
    "print(A**2)"
   ]
  },
  {
   "cell_type": "markdown",
   "metadata": {},
   "source": [
    "## ex_linear_reg"
   ]
  },
  {
   "cell_type": "code",
   "execution_count": null,
   "metadata": {},
   "outputs": [],
   "source": [
    "# %\n",
    "# %This exercise uses a data from the UCI repository:\n",
    "# % Bache, K. & Lichman, M. (2013). UCI Machine Learning Repository\n",
    "# % http://archive.ics.uci.edu/ml\n",
    "# % Irvine, CA: University of California, School of Information and Computer Science.\n",
    "# %\n",
    "# %Data created by:\n",
    "# % Harrison, D. and Rubinfeld, D.L.\n",
    "# % ''Hedonic prices and the demand for clean air''\n",
    "# % J. Environ. Economics & Management, vol.5, 81-102, 1978.\n",
    "# %\n",
    "# addpath ../common\n",
    "# addpath ../common/minFunc_2012/minFunc\n",
    "# addpath ../common/minFunc_2012/minFunc/compiled\n",
    "\n",
    "# % Load housing data from file.\n",
    "data = load('housing.data');\n",
    "cols=data.shape[1]\n",
    "append=np.ones(shape=(1,cols))\n",
    "# % Include a row of 1s as an additional intercept feature.\n",
    "data = np.insert(data,0,values=append,axis=0)\n",
    "# % Shuffle examples.\n",
    "# data = data(:, randperm(size(data,2)));\n",
    "data1=data.T\n",
    "np.random.shuffle(data1)\n",
    "data2=data1.T\n",
    "# % Split into train and test sets\n",
    "# % The last row of 'data' is the median home price.\n",
    "train_X = data2[1:end-1,1:400];\n",
    "train_y = data2[end,1:400];\n",
    "\n",
    "test_X = data2[1:end-1,401:end];\n",
    "test_y = data2[end,401:end];\n",
    "\n",
    "m=train_X.shape(1);\n",
    "n=train_X.shape(0);\n",
    "\n",
    "# % Initialize the coefficient vector theta to random values.\n",
    "theta=np.random.rand(n,1)\n",
    "    \n",
    "# % Run the minFunc optimizer with linear_regression.m as the objective.\n",
    "# %\n",
    "# % TODO:  Implement the linear regression objective and gradient computations\n",
    "# % in linear_regression.m\n",
    "# %\n",
    "# tic;\n",
    "# options = struct('MaxIter', 200);\n",
    "# theta = minFunc(@linear_regression, theta, options, train.X, train.y);\n",
    "# fprintf('Optimization took %f seconds.\\n', toc);\n",
    "\n",
    "# % Run minFunc with linear_regression_vec.m as the objective.\n",
    "# %\n",
    "# % TODO:  Implement linear regression in linear_regression_vec.m\n",
    "# % using MATLAB's vectorization features to speed up your code.\n",
    "# % Compare the running time for your linear_regression.m and\n",
    "# % linear_regression_vec.m implementations.\n",
    "# %\n",
    "# % Uncomment the lines below to run your vectorized code.\n",
    "# %Re-initialize parameters\n",
    "# %theta = rand(n,1);\n",
    "# %tic;\n",
    "# %theta = minFunc(@linear_regression_vec, theta, options, train.X, train.y);\n",
    "# %fprintf('Optimization took %f seconds.\\n', toc);\n",
    "\n",
    "# % Plot predicted prices and actual prices from training set.\n",
    "def ex_linear_reg(theta,X,y,lr,epoches):\n",
    "    res_theta=theta\n",
    "    for i in range(epoches):\n",
    "        [f,g]=linear_regression(theta,train_X,train_y)\n",
    "        print(\"the cost is %f\",f)\n",
    "        theta-=lr*g\n",
    "        if costmin>f:\n",
    "            costmin=f\n",
    "            res_theta=theta\n",
    "    return res_theta\n",
    "lr=0.05\n",
    "epoches=5\n",
    "costmin=1000   \n",
    "res_theta=ex_linear_reg(theta,train_X,train_y,lr,epoches)\n",
    "actual_prices = train_y;\n",
    "predicted_prices =np.dot(res_theta,train_X) \n",
    "\n",
    "# % Print out root-mean-squared (RMS) training error.\n",
    "train_rms=(np.mean((predicted_prices - actual_prices)**2))**0.5;\n",
    "print('RMS training error: %f\\n', train_rms);\n",
    "\n",
    "# % Print out test RMS error\n",
    "actual_prices = test_y;\n",
    "predicted_prices = np.dot(res_theta,test_X) \n",
    "test_rms==(np.mean((predicted_prices - actual_prices)**2))**0.5;\n",
    "print('RMS testing error: %f\\n', test_rms);\n",
    "\n",
    "# % Plot predictions on test data.\n",
    "%matplotlib inline\n",
    "import matplotlib.pyplot as plt\n",
    "plt.plot(np.range(m-400),predicted_prices,'xg',label='predicted')\n",
    "plt.plot(np.range(m-400),actual_prices,'*b',label='actual')\n",
    "plt.legend()\n",
    "plt.xlabel('House #')\n",
    "plt.ylabel('House price')\n",
    "# plot_prices=true;\n",
    "# if (plot_prices)\n",
    "#   [actual_prices,I] = sort(actual_prices);\n",
    "#   predicted_prices=predicted_prices(I);\n",
    "#   plot(actual_prices, 'rx');\n",
    "#   hold on;\n",
    "#   plot(predicted_prices,'bx');\n",
    "#   legend('Actual Price', 'Predicted Price');\n",
    "#   xlabel('House #');\n",
    "#   ylabel('House price ($1000s)');\n",
    "# end"
   ]
  },
  {
   "cell_type": "code",
   "execution_count": 43,
   "metadata": {},
   "outputs": [
    {
     "name": "stdout",
     "output_type": "stream",
     "text": [
      "[[ 0  1  2  3]\n",
      " [ 4  5  6  7]\n",
      " [ 8  9 10 11]]\n",
      "[[ 0  4  8]\n",
      " [ 1  5  9]\n",
      " [ 2  6 10]\n",
      " [ 3  7 11]]\n",
      "[[ 0  4  8]\n",
      " [ 2  6 10]\n",
      " [ 1  5  9]\n",
      " [ 3  7 11]]\n",
      "[[ 0  2  1  3]\n",
      " [ 4  6  5  7]\n",
      " [ 8 10  9 11]]\n"
     ]
    }
   ],
   "source": [
    "arr=np.arange(12).reshape(3,4)\n",
    "print(arr)\n",
    "brr=arr.T\n",
    "print(brr)\n",
    "np.random.shuffle(brr)\n",
    "print(brr)\n",
    "print(brr.T)"
   ]
  },
  {
   "cell_type": "code",
   "execution_count": 45,
   "metadata": {},
   "outputs": [
    {
     "data": {
      "text/plain": [
       "array([[6, 5, 7]])"
      ]
     },
     "execution_count": 45,
     "metadata": {},
     "output_type": "execute_result"
    }
   ],
   "source": [
    "arr[1:2,1:]"
   ]
  },
  {
   "cell_type": "code",
   "execution_count": 46,
   "metadata": {},
   "outputs": [
    {
     "data": {
      "text/plain": [
       "array([[ 0,  2,  1,  3],\n",
       "       [ 4,  6,  5,  7],\n",
       "       [ 8, 10,  9, 11]])"
      ]
     },
     "execution_count": 46,
     "metadata": {},
     "output_type": "execute_result"
    }
   ],
   "source": [
    "arr"
   ]
  },
  {
   "cell_type": "code",
   "execution_count": 12,
   "metadata": {},
   "outputs": [
    {
     "data": {
      "text/plain": [
       "array([34, 44, 54])"
      ]
     },
     "execution_count": 12,
     "metadata": {},
     "output_type": "execute_result"
    }
   ],
   "source": [
    "import numpy as np\n",
    "theta=np.array([1,2,3,4])\n",
    "x=np.array([[1,2,3],[4,5,6],[7,8,9],[1,2,3]])\n",
    "np.dot(theta,x)"
   ]
  },
  {
   "cell_type": "code",
   "execution_count": 28,
   "metadata": {},
   "outputs": [
    {
     "data": {
      "text/plain": [
       "3"
      ]
     },
     "execution_count": 28,
     "metadata": {},
     "output_type": "execute_result"
    }
   ],
   "source": [
    "x.shape[1]"
   ]
  },
  {
   "cell_type": "code",
   "execution_count": 10,
   "metadata": {},
   "outputs": [
    {
     "data": {
      "text/plain": [
       "array([1, 4, 7, 1])"
      ]
     },
     "execution_count": 10,
     "metadata": {},
     "output_type": "execute_result"
    }
   ],
   "source": [
    "x[:,0]"
   ]
  },
  {
   "cell_type": "code",
   "execution_count": 30,
   "metadata": {},
   "outputs": [
    {
     "data": {
      "text/plain": [
       "array([[ 1.,  1.]])"
      ]
     },
     "execution_count": 30,
     "metadata": {},
     "output_type": "execute_result"
    }
   ],
   "source": [
    "np.ones(shape=(1,2))"
   ]
  },
  {
   "cell_type": "code",
   "execution_count": 16,
   "metadata": {},
   "outputs": [
    {
     "data": {
      "text/plain": [
       "array([ 1,  8, 21,  4])"
      ]
     },
     "execution_count": 16,
     "metadata": {},
     "output_type": "execute_result"
    }
   ],
   "source": [
    "theta*x[:,0]"
   ]
  },
  {
   "cell_type": "code",
   "execution_count": null,
   "metadata": {},
   "outputs": [],
   "source": []
  },
  {
   "cell_type": "code",
   "execution_count": null,
   "metadata": {},
   "outputs": [],
   "source": []
  }
 ],
 "metadata": {
  "kernelspec": {
   "display_name": "Python 3",
   "language": "python",
   "name": "python3"
  },
  "language_info": {
   "codemirror_mode": {
    "name": "ipython",
    "version": 3
   },
   "file_extension": ".py",
   "mimetype": "text/x-python",
   "name": "python",
   "nbconvert_exporter": "python",
   "pygments_lexer": "ipython3",
   "version": "3.6.5"
  },
  "toc": {
   "base_numbering": 1,
   "nav_menu": {},
   "number_sections": true,
   "sideBar": true,
   "skip_h1_title": false,
   "title_cell": "Table of Contents",
   "title_sidebar": "Contents",
   "toc_cell": false,
   "toc_position": {},
   "toc_section_display": true,
   "toc_window_display": false
  }
 },
 "nbformat": 4,
 "nbformat_minor": 2
}
